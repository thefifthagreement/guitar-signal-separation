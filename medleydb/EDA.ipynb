{
 "cells": [
  {
   "cell_type": "code",
   "execution_count": 1,
   "metadata": {},
   "outputs": [],
   "source": [
    "from os import environ\n",
    "from pathlib import Path\n",
    "import yaml\n",
    "import pandas as pd\n",
    "from collections import Counter\n",
    "import seaborn as sns \n",
    "import matplotlib.pyplot as plt\n",
    "import librosa\n",
    "from librosa import display\n",
    "import numpy as np\n"
   ]
  },
  {
   "cell_type": "code",
   "execution_count": 5,
   "metadata": {
    "tags": []
   },
   "outputs": [
    {
     "output_type": "stream",
     "name": "stdout",
     "text": "wd: d:\\Théo\\GitHub\\jedha-final-project\\medleydb, metadata: d:\\Théo\\GitHub\\jedha-final-project\\medleydb\\medleydb\\data\\Metadata, audio: D:\\Théo\\MedleyDB\\V1, images d:\\Théo\\GitHub\\jedha-final-project\\medleydb\\images\n"
    }
   ],
   "source": [
    "wd_path = Path.cwd()\n",
    "img_path = wd_path.joinpath('images')\n",
    "\n",
    "metadata_path = wd_path.joinpath(environ['METADATA_PATH'])\n",
    "\n",
    "audio_path = Path(environ['MEDLEYDB_PATH'])\n",
    "\n",
    "print(\"wd: {}, metadata: {}, audio: {}, images {}\".format(wd_path, metadata_path, audio_path, img_path))"
   ]
  },
  {
   "cell_type": "code",
   "execution_count": 3,
   "metadata": {},
   "outputs": [],
   "source": [
    "audio_files = [a.name for a in audio_path.iterdir() if a.is_dir()]"
   ]
  },
  {
   "cell_type": "markdown",
   "metadata": {},
   "source": [
    "### Liste des fichiers audio de la V1"
   ]
  },
  {
   "cell_type": "code",
   "execution_count": 114,
   "metadata": {},
   "outputs": [
    {
     "output_type": "execute_result",
     "data": {
      "text/plain": "['AClassicEducation_NightOwl',\n 'AimeeNorwich_Child',\n 'AimeeNorwich_Flying',\n 'AlexanderRoss_GoodbyeBolero',\n 'AlexanderRoss_VelvetCurtain']"
     },
     "metadata": {},
     "execution_count": 114
    }
   ],
   "source": [
    "audio_files[:5]"
   ]
  },
  {
   "cell_type": "markdown",
   "metadata": {},
   "source": [
    "### Parcours des metadata"
   ]
  },
  {
   "cell_type": "code",
   "execution_count": 115,
   "metadata": {},
   "outputs": [
    {
     "output_type": "execute_result",
     "data": {
      "text/plain": "[WindowsPath('d:/Théo/GitHub/medleydb/medleydb/data/Metadata/AcDc_BackInBlack_METADATA.yaml'),\n WindowsPath('d:/Théo/GitHub/medleydb/medleydb/data/Metadata/AClassicEducation_NightOwl_METADATA.yaml'),\n WindowsPath('d:/Théo/GitHub/medleydb/medleydb/data/Metadata/Adele_SomeoneLikeYou_METADATA.yaml'),\n WindowsPath('d:/Théo/GitHub/medleydb/medleydb/data/Metadata/Aerosmith_LoveInAnElevator_METADATA.yaml'),\n WindowsPath('d:/Théo/GitHub/medleydb/medleydb/data/Metadata/AHa_TakeOnMe_METADATA.yaml')]"
     },
     "metadata": {},
     "execution_count": 115
    }
   ],
   "source": [
    "metadata_files = [m for m in metadata_path.glob('*.yaml')]\n",
    "metadata_files[:5]"
   ]
  },
  {
   "cell_type": "code",
   "execution_count": 116,
   "metadata": {},
   "outputs": [
    {
     "output_type": "execute_result",
     "data": {
      "text/plain": "['AcDc_BackInBlack',\n 'AClassicEducation_NightOwl',\n 'Adele_SomeoneLikeYou',\n 'Aerosmith_LoveInAnElevator',\n 'AHa_TakeOnMe']"
     },
     "metadata": {},
     "execution_count": 116
    }
   ],
   "source": [
    "metadata_filenames = [m.name.split(\"_METADATA\")[0] for m in metadata_files]\n",
    "metadata_filenames[:5]"
   ]
  },
  {
   "cell_type": "code",
   "execution_count": 117,
   "metadata": {},
   "outputs": [],
   "source": [
    "match = [m for m in metadata_files if m.name.split(\"_METADATA\")[0] in audio_files]"
   ]
  },
  {
   "cell_type": "code",
   "execution_count": 118,
   "metadata": {},
   "outputs": [
    {
     "output_type": "execute_result",
     "data": {
      "text/plain": "122"
     },
     "metadata": {},
     "execution_count": 118
    }
   ],
   "source": [
    "len(match)"
   ]
  },
  {
   "cell_type": "markdown",
   "metadata": {},
   "source": [
    "### Création d'un dataframe à partir des fichiers metadata"
   ]
  },
  {
   "cell_type": "code",
   "execution_count": 9,
   "metadata": {},
   "outputs": [],
   "source": [
    "metadata_df = pd.read_csv(metadata_path.joinpath(\"metadata.csv\"), index_col=0)"
   ]
  },
  {
   "cell_type": "raw",
   "metadata": {},
   "source": [
    "metadata_df = pd.DataFrame()"
   ]
  },
  {
   "cell_type": "raw",
   "metadata": {},
   "source": [
    "for f in match:\n",
    "    with open(f, 'r') as stream:\n",
    "        m = pd.json_normalize(yaml.load(stream, Loader=yaml.FullLoader), max_level=0)\n",
    "    metadata_df = metadata_df.append(m, ignore_index=True)"
   ]
  },
  {
   "cell_type": "raw",
   "metadata": {},
   "source": [
    "metadata_df.to_csv(metadata_path.joinpath(\"metadata.csv\"))"
   ]
  },
  {
   "cell_type": "code",
   "execution_count": 10,
   "metadata": {},
   "outputs": [
    {
     "output_type": "execute_result",
     "data": {
      "text/plain": "                      album               artist                 composer  \\\n0  Shaking Through Volume 2  A Classic Education  ['A Classic Education']   \n1                       NaN        Aimee Norwich        ['Aimee Norwich']   \n2                       NaN        Aimee Norwich        ['Aimee Norwich']   \n3                       NaN       Alexander Ross       ['Alexander Ross']   \n4                       NaN       Alexander Ross       ['Alexander Ross']   \n\n  excerpt              genre has_bleed instrumental  \\\n0      no  Singer/Songwriter        no           no   \n1      no  Singer/Songwriter        no           no   \n2      no         World/Folk        no          yes   \n3      no  Singer/Songwriter        no           no   \n4      no  Singer/Songwriter        no           no   \n\n                          mix_filename              origin  \\\n0   AClassicEducation_NightOwl_MIX.wav   Weathervane Music   \n1           AimeeNorwich_Child_MIX.wav  Independent Artist   \n2          AimeeNorwich_Flying_MIX.wav  Independent Artist   \n3  AlexanderRoss_GoodbyeBolero_MIX.wav  Independent Artist   \n4  AlexanderRoss_VelvetCurtain_MIX.wav  Independent Artist   \n\n                           producer                          raw_dir  \\\n0                 ['Andy Williams']   AClassicEducation_NightOwl_RAW   \n1  ['Aimee Norwich & Senem Pirler']           AimeeNorwich_Child_RAW   \n2  ['Aimee Norwich & Senem Pirler']          AimeeNorwich_Flying_RAW   \n3                  ['Mike Tierney']  AlexanderRoss_GoodbyeBolero_RAW   \n4                  ['Mike Tierney']  AlexanderRoss_VelvetCurtain_RAW   \n\n                            stem_dir  \\\n0   AClassicEducation_NightOwl_STEMS   \n1           AimeeNorwich_Child_STEMS   \n2          AimeeNorwich_Flying_STEMS   \n3  AlexanderRoss_GoodbyeBolero_STEMS   \n4  AlexanderRoss_VelvetCurtain_STEMS   \n\n                                               stems           title  version  \\\n0  {'S01': {'component': 'bass', 'filename': 'ACl...       Night Owl      1.2   \n1  {'S01': {'component': '', 'filename': 'AimeeNo...           Child      1.2   \n2  {'S01': {'component': '', 'filename': 'AimeeNo...          Flying      1.2   \n3  {'S01': {'component': '', 'filename': 'Alexand...  Goodbye Bolero      1.2   \n4  {'S01': {'component': 'melody', 'filename': 'A...  Velvet Curtain      1.2   \n\n                                        website  \n0  ['www.shakingthrough.com/aclassiceducation']  \n1                      ['www.aimeenorwich.com']  \n2                      ['www.aimeenorwich.com']  \n3                                            []  \n4                                            []  ",
      "text/html": "<div>\n<style scoped>\n    .dataframe tbody tr th:only-of-type {\n        vertical-align: middle;\n    }\n\n    .dataframe tbody tr th {\n        vertical-align: top;\n    }\n\n    .dataframe thead th {\n        text-align: right;\n    }\n</style>\n<table border=\"1\" class=\"dataframe\">\n  <thead>\n    <tr style=\"text-align: right;\">\n      <th></th>\n      <th>album</th>\n      <th>artist</th>\n      <th>composer</th>\n      <th>excerpt</th>\n      <th>genre</th>\n      <th>has_bleed</th>\n      <th>instrumental</th>\n      <th>mix_filename</th>\n      <th>origin</th>\n      <th>producer</th>\n      <th>raw_dir</th>\n      <th>stem_dir</th>\n      <th>stems</th>\n      <th>title</th>\n      <th>version</th>\n      <th>website</th>\n    </tr>\n  </thead>\n  <tbody>\n    <tr>\n      <th>0</th>\n      <td>Shaking Through Volume 2</td>\n      <td>A Classic Education</td>\n      <td>['A Classic Education']</td>\n      <td>no</td>\n      <td>Singer/Songwriter</td>\n      <td>no</td>\n      <td>no</td>\n      <td>AClassicEducation_NightOwl_MIX.wav</td>\n      <td>Weathervane Music</td>\n      <td>['Andy Williams']</td>\n      <td>AClassicEducation_NightOwl_RAW</td>\n      <td>AClassicEducation_NightOwl_STEMS</td>\n      <td>{'S01': {'component': 'bass', 'filename': 'ACl...</td>\n      <td>Night Owl</td>\n      <td>1.2</td>\n      <td>['www.shakingthrough.com/aclassiceducation']</td>\n    </tr>\n    <tr>\n      <th>1</th>\n      <td>NaN</td>\n      <td>Aimee Norwich</td>\n      <td>['Aimee Norwich']</td>\n      <td>no</td>\n      <td>Singer/Songwriter</td>\n      <td>no</td>\n      <td>no</td>\n      <td>AimeeNorwich_Child_MIX.wav</td>\n      <td>Independent Artist</td>\n      <td>['Aimee Norwich &amp; Senem Pirler']</td>\n      <td>AimeeNorwich_Child_RAW</td>\n      <td>AimeeNorwich_Child_STEMS</td>\n      <td>{'S01': {'component': '', 'filename': 'AimeeNo...</td>\n      <td>Child</td>\n      <td>1.2</td>\n      <td>['www.aimeenorwich.com']</td>\n    </tr>\n    <tr>\n      <th>2</th>\n      <td>NaN</td>\n      <td>Aimee Norwich</td>\n      <td>['Aimee Norwich']</td>\n      <td>no</td>\n      <td>World/Folk</td>\n      <td>no</td>\n      <td>yes</td>\n      <td>AimeeNorwich_Flying_MIX.wav</td>\n      <td>Independent Artist</td>\n      <td>['Aimee Norwich &amp; Senem Pirler']</td>\n      <td>AimeeNorwich_Flying_RAW</td>\n      <td>AimeeNorwich_Flying_STEMS</td>\n      <td>{'S01': {'component': '', 'filename': 'AimeeNo...</td>\n      <td>Flying</td>\n      <td>1.2</td>\n      <td>['www.aimeenorwich.com']</td>\n    </tr>\n    <tr>\n      <th>3</th>\n      <td>NaN</td>\n      <td>Alexander Ross</td>\n      <td>['Alexander Ross']</td>\n      <td>no</td>\n      <td>Singer/Songwriter</td>\n      <td>no</td>\n      <td>no</td>\n      <td>AlexanderRoss_GoodbyeBolero_MIX.wav</td>\n      <td>Independent Artist</td>\n      <td>['Mike Tierney']</td>\n      <td>AlexanderRoss_GoodbyeBolero_RAW</td>\n      <td>AlexanderRoss_GoodbyeBolero_STEMS</td>\n      <td>{'S01': {'component': '', 'filename': 'Alexand...</td>\n      <td>Goodbye Bolero</td>\n      <td>1.2</td>\n      <td>[]</td>\n    </tr>\n    <tr>\n      <th>4</th>\n      <td>NaN</td>\n      <td>Alexander Ross</td>\n      <td>['Alexander Ross']</td>\n      <td>no</td>\n      <td>Singer/Songwriter</td>\n      <td>no</td>\n      <td>no</td>\n      <td>AlexanderRoss_VelvetCurtain_MIX.wav</td>\n      <td>Independent Artist</td>\n      <td>['Mike Tierney']</td>\n      <td>AlexanderRoss_VelvetCurtain_RAW</td>\n      <td>AlexanderRoss_VelvetCurtain_STEMS</td>\n      <td>{'S01': {'component': 'melody', 'filename': 'A...</td>\n      <td>Velvet Curtain</td>\n      <td>1.2</td>\n      <td>[]</td>\n    </tr>\n  </tbody>\n</table>\n</div>"
     },
     "metadata": {},
     "execution_count": 10
    }
   ],
   "source": [
    "metadata_df.head()"
   ]
  },
  {
   "cell_type": "markdown",
   "metadata": {},
   "source": [
    "## Liste exhaustive des instruments"
   ]
  },
  {
   "cell_type": "code",
   "execution_count": 11,
   "metadata": {
    "tags": []
   },
   "outputs": [],
   "source": [
    "# on parcours tous les stems et on ajoute les instruments à la liste\n",
    "instruments_list = []\n",
    "for stems in metadata_df[\"stems\"]:\n",
    "    stems = eval(stems)\n",
    "    for s in stems.values():\n",
    "        instruments_list.append(s[\"instrument\"])\n",
    "instruments_list = set(instruments_list)"
   ]
  },
  {
   "cell_type": "code",
   "execution_count": 12,
   "metadata": {},
   "outputs": [
    {
     "output_type": "execute_result",
     "data": {
      "text/plain": "{'Main System',\n 'accordion',\n 'acoustic guitar',\n 'alto saxophone',\n 'auxiliary percussion',\n 'bamboo flute',\n 'banjo',\n 'baritone saxophone',\n 'bass clarinet',\n 'bass drum',\n 'bassoon',\n 'bongo',\n 'brass section',\n 'cello',\n 'cello section',\n 'chimes',\n 'claps',\n 'clarinet',\n 'clarinet section',\n 'clean electric guitar',\n 'cymbal',\n 'darbuka',\n 'distorted electric guitar',\n 'dizi',\n 'double bass',\n 'doumbek',\n 'drum machine',\n 'drum set',\n 'electric bass',\n 'electric piano',\n 'erhu',\n 'female singer',\n 'flute',\n 'flute section',\n 'french horn',\n 'french horn section',\n 'fx/processed sound',\n 'glockenspiel',\n 'gong',\n 'gu',\n 'guzheng',\n 'harmonica',\n 'harp',\n 'horn section',\n 'kick drum',\n 'lap steel guitar',\n 'liuqin',\n 'male rapper',\n 'male singer',\n 'male speaker',\n 'mandolin',\n 'melodica',\n 'oboe',\n 'oud',\n 'piano',\n 'piccolo',\n 'sampler',\n 'scratches',\n 'shaker',\n 'snare drum',\n 'soprano saxophone',\n 'string section',\n 'synthesizer',\n 'tabla',\n 'tack piano',\n 'tambourine',\n 'tenor saxophone',\n 'timpani',\n 'toms',\n 'trombone',\n 'trombone section',\n 'trumpet',\n 'trumpet section',\n 'tuba',\n 'vibraphone',\n 'viola',\n 'viola section',\n 'violin',\n 'violin section',\n 'vocalists',\n 'yangqin',\n 'zhongruan'}"
     },
     "metadata": {},
     "execution_count": 12
    }
   ],
   "source": [
    "instruments_list"
   ]
  },
  {
   "cell_type": "markdown",
   "metadata": {},
   "source": [
    "## Création d'un dictionnaire pour renommer les STEMS lors du pre-processing"
   ]
  },
  {
   "cell_type": "code",
   "execution_count": 13,
   "metadata": {},
   "outputs": [
    {
     "output_type": "execute_result",
     "data": {
      "text/plain": "{'dizi': 'dizi',\n 'trombone section': 'trombone_section',\n 'bassoon': 'bassoon',\n 'cello section': 'cello_section',\n 'yangqin': 'yangqin',\n 'shaker': 'shaker',\n 'cymbal': 'cymbal',\n 'bongo': 'bongo',\n 'vibraphone': 'vibraphone',\n 'viola': 'viola',\n 'viola section': 'viola_section',\n 'violin section': 'violin_section',\n 'french horn': 'french_horn',\n 'piccolo': 'piccolo',\n 'synthesizer': 'synthesizer',\n 'flute section': 'flute_section',\n 'timpani': 'timpani',\n 'banjo': 'banjo',\n 'bass clarinet': 'bass_clarinet',\n 'string section': 'string_section',\n 'female singer': 'female_singer',\n 'bamboo flute': 'bamboo_flute',\n 'drum machine': 'drum_machine',\n 'trombone': 'trombone',\n 'flute': 'flute',\n 'glockenspiel': 'glockenspiel',\n 'kick drum': 'kick_drum',\n 'tack piano': 'tack_piano',\n 'violin': 'violin',\n 'tenor saxophone': 'tenor_saxophone',\n 'scratches': 'scratches',\n 'brass section': 'brass_section',\n 'piano': 'piano',\n 'alto saxophone': 'alto_saxophone',\n 'cello': 'cello',\n 'male speaker': 'male_speaker',\n 'trumpet': 'trumpet',\n 'clarinet section': 'clarinet_section',\n 'drum set': 'drum_set',\n 'oboe': 'oboe',\n 'baritone saxophone': 'baritone_saxophone',\n 'snare drum': 'snare_drum',\n 'horn section': 'horn_section',\n 'gong': 'gong',\n 'tambourine': 'tambourine',\n 'distorted electric guitar': 'distorted_electric_guitar',\n 'fx/processed sound': 'fx/processed_sound',\n 'auxiliary percussion': 'auxiliary_percussion',\n 'electric piano': 'electric_piano',\n 'male rapper': 'male_rapper',\n 'oud': 'oud',\n 'darbuka': 'darbuka',\n 'acoustic guitar': 'acoustic_guitar',\n 'french horn section': 'french_horn_section',\n 'gu': 'gu',\n 'lap steel guitar': 'lap_steel_guitar',\n 'bass drum': 'bass_drum',\n 'tuba': 'tuba',\n 'chimes': 'chimes',\n 'harmonica': 'harmonica',\n 'toms': 'toms',\n 'electric bass': 'electric_bass',\n 'double bass': 'double_bass',\n 'Main System': 'Main_System',\n 'melodica': 'melodica',\n 'zhongruan': 'zhongruan',\n 'sampler': 'sampler',\n 'claps': 'claps',\n 'erhu': 'erhu',\n 'male singer': 'male_singer',\n 'accordion': 'accordion',\n 'doumbek': 'doumbek',\n 'trumpet section': 'trumpet_section',\n 'harp': 'harp',\n 'guzheng': 'guzheng',\n 'vocalists': 'vocalists',\n 'clarinet': 'clarinet',\n 'mandolin': 'mandolin',\n 'clean electric guitar': 'clean_electric_guitar',\n 'liuqin': 'liuqin',\n 'soprano saxophone': 'soprano_saxophone',\n 'tabla': 'tabla'}"
     },
     "metadata": {},
     "execution_count": 13
    }
   ],
   "source": [
    "instruments_dict = {i: i.replace(' ', '_') for i in instruments_list}\n",
    "instruments_dict"
   ]
  },
  {
   "cell_type": "markdown",
   "metadata": {},
   "source": [
    "### Filtre du dataset sur les TRACKS contenant des STEMS clean electric guitar"
   ]
  },
  {
   "cell_type": "code",
   "execution_count": 14,
   "metadata": {
    "tags": []
   },
   "outputs": [
    {
     "output_type": "execute_result",
     "data": {
      "text/plain": "['AClassicEducation_NightOwl_STEM_05.wav',\n 'AimeeNorwich_Child_STEM_03.wav',\n 'AimeeNorwich_Flying_STEM_04.wav',\n 'AimeeNorwich_Flying_STEM_05.wav',\n 'AlexanderRoss_GoodbyeBolero_STEM_02.wav',\n 'AlexanderRoss_GoodbyeBolero_STEM_03.wav',\n 'AlexanderRoss_VelvetCurtain_STEM_02.wav',\n 'AlexanderRoss_VelvetCurtain_STEM_03.wav',\n 'AlexanderRoss_VelvetCurtain_STEM_10.wav',\n 'AmarLal_Rest_STEM_01.wav',\n 'Auctioneer_OurFutureFaces_STEM_05.wav',\n 'CelestialShore_DieForUs_STEM_05.wav',\n 'CelestialShore_DieForUs_STEM_08.wav',\n 'ChrisJacoby_BoothShotLincoln_STEM_03.wav',\n 'ClaraBerryAndWooldog_AirTraffic_STEM_04.wav',\n 'CroqueMadame_Oil_STEM_02.wav',\n 'CroqueMadame_Pilot_STEM_02.wav',\n 'FacesOnFilm_WaitingForGa_STEM_05.wav',\n 'FamilyBand_Again_STEM_05.wav',\n 'InvisibleFamiliars_DisturbingWildlife_STEM_05.wav',\n 'LizNelson_Rainfall_STEM_05.wav',\n 'Lushlife_ToynbeeSuite_STEM_10.wav',\n 'Lushlife_ToynbeeSuite_STEM_11.wav',\n 'Lushlife_ToynbeeSuite_STEM_12.wav',\n 'Meaxic_TakeAStep_STEM_02.wav',\n 'Meaxic_YouListen_STEM_05.wav',\n 'MusicDelta_Beatles_STEM_03.wav',\n 'MusicDelta_Beatles_STEM_04.wav',\n 'MusicDelta_Beatles_STEM_06.wav',\n 'MusicDelta_Britpop_STEM_04.wav',\n 'MusicDelta_Britpop_STEM_05.wav',\n 'MusicDelta_Britpop_STEM_06.wav',\n 'MusicDelta_Country2_STEM_03.wav',\n 'MusicDelta_Country2_STEM_04.wav',\n 'MusicDelta_Disco_STEM_03.wav',\n 'MusicDelta_Gospel_STEM_03.wav',\n 'MusicDelta_Gospel_STEM_04.wav',\n 'MusicDelta_Reggae_STEM_03.wav',\n 'MusicDelta_Rockabilly_STEM_04.wav',\n 'MusicDelta_Rock_STEM_03.wav',\n 'MusicDelta_Rock_STEM_04.wav',\n 'MusicDelta_Shadows_STEM_03.wav',\n 'MusicDelta_Shadows_STEM_04.wav',\n 'PortStWillow_StayEven_STEM_05.wav',\n 'PortStWillow_StayEven_STEM_06.wav',\n 'PortStWillow_StayEven_STEM_07.wav',\n 'SecretMountains_HighHorse_STEM_05.wav',\n 'Snowmine_Curfews_STEM_07.wav',\n 'Snowmine_Curfews_STEM_08.wav',\n 'StevenClark_Bounty_STEM_01.wav',\n 'TablaBreakbeatScience_MoodyPlucks_STEM_09.wav',\n 'TablaBreakbeatScience_Vger_STEM_06.wav',\n 'TheDistricts_Vermont_STEM_06.wav',\n 'TheDistricts_Vermont_STEM_07.wav',\n 'TheScarletBrand_LesFleursDuMal_STEM_03.wav',\n 'TheScarletBrand_LesFleursDuMal_STEM_07.wav']"
     },
     "metadata": {},
     "execution_count": 14
    }
   ],
   "source": [
    "clean_el_guitar_stems = []\n",
    "for stems in metadata_df[\"stems\"]:\n",
    "    stems = eval(stems)\n",
    "    for s in stems.values():\n",
    "        if s[\"instrument\"] == \"clean electric guitar\":\n",
    "            clean_el_guitar_stems.append(s[\"filename\"])\n",
    "clean_el_guitar_stems"
   ]
  },
  {
   "cell_type": "markdown",
   "metadata": {},
   "source": [
    "### Création de la liste des TRACKS contenant clean electric guitar"
   ]
  },
  {
   "cell_type": "code",
   "execution_count": 15,
   "metadata": {},
   "outputs": [
    {
     "output_type": "execute_result",
     "data": {
      "text/plain": "{'AClassicEducation_NightOwl',\n 'AimeeNorwich_Child',\n 'AimeeNorwich_Flying',\n 'AlexanderRoss_GoodbyeBolero',\n 'AlexanderRoss_VelvetCurtain',\n 'AmarLal_Rest',\n 'Auctioneer_OurFutureFaces',\n 'CelestialShore_DieForUs',\n 'ChrisJacoby_BoothShotLincoln',\n 'ClaraBerryAndWooldog_AirTraffic',\n 'CroqueMadame_Oil',\n 'CroqueMadame_Pilot',\n 'FacesOnFilm_WaitingForGa',\n 'FamilyBand_Again',\n 'InvisibleFamiliars_DisturbingWildlife',\n 'LizNelson_Rainfall',\n 'Lushlife_ToynbeeSuite',\n 'Meaxic_TakeAStep',\n 'Meaxic_YouListen',\n 'MusicDelta_Beatles',\n 'MusicDelta_Britpop',\n 'MusicDelta_Country2',\n 'MusicDelta_Disco',\n 'MusicDelta_Gospel',\n 'MusicDelta_Reggae',\n 'MusicDelta_Rock',\n 'MusicDelta_Rockabilly',\n 'MusicDelta_Shadows',\n 'PortStWillow_StayEven',\n 'SecretMountains_HighHorse',\n 'Snowmine_Curfews',\n 'StevenClark_Bounty',\n 'TablaBreakbeatScience_MoodyPlucks',\n 'TablaBreakbeatScience_Vger',\n 'TheDistricts_Vermont',\n 'TheScarletBrand_LesFleursDuMal'}"
     },
     "metadata": {},
     "execution_count": 15
    }
   ],
   "source": [
    "clean_el_guitar_tracks = set([s.split(\"_STEM\")[0] for s in clean_el_guitar_stems])\n",
    "clean_el_guitar_tracks"
   ]
  },
  {
   "cell_type": "markdown",
   "metadata": {},
   "source": [
    "### Observation du component associé à chaque pistes de target"
   ]
  },
  {
   "cell_type": "code",
   "execution_count": 56,
   "metadata": {
    "tags": []
   },
   "outputs": [],
   "source": [
    "components_solo = []\n",
    "stems_solo = []\n",
    "\n",
    "for stems in metadata_df[\"stems\"]:\n",
    "    stems = eval(stems)\n",
    "    for s in stems.values():\n",
    "        components_solo.append(s[\"component\"])\n",
    "        stems_solo.append(s[\"filename\"])"
   ]
  },
  {
   "cell_type": "code",
   "execution_count": 57,
   "metadata": {
    "tags": []
   },
   "outputs": [],
   "source": [
    "liste_components = []\n",
    "stems_compo = zip(stems_solo, components_solo)\n",
    "stems_compo = list(stems_compo)\n",
    "\n",
    "for s in stems_compo :\n",
    "    for c in clean_el_guitar_stems :\n",
    "       if s[0] == c :\n",
    "            liste_components.append(s[1])"
   ]
  },
  {
   "cell_type": "code",
   "execution_count": 48,
   "metadata": {
    "tags": []
   },
   "outputs": [
    {
     "output_type": "execute_result",
     "data": {
      "text/plain": "Counter({'': 45, 'melody': 11})"
     },
     "metadata": {},
     "execution_count": 48
    }
   ],
   "source": [
    "results = zip(clean_el_guitar_stems, liste_components)\n",
    "results = list(results)\n",
    "Counter(liste_components)"
   ]
  },
  {
   "cell_type": "markdown",
   "metadata": {},
   "source": [
    "### Observation de chaque mix contenant une target en fonction du 'has_bleed ou pas'"
   ]
  },
  {
   "cell_type": "code",
   "execution_count": 75,
   "metadata": {
    "tags": []
   },
   "outputs": [],
   "source": [
    "mix_cible = []\n",
    "clean_el_guitar_tracks = list(clean_el_guitar_tracks)\n",
    "\n",
    "for i in clean_el_guitar_tracks :\n",
    "    mix_cible.append(i+('_MIX.wav'))"
   ]
  },
  {
   "cell_type": "code",
   "execution_count": 77,
   "metadata": {
    "tags": []
   },
   "outputs": [],
   "source": [
    "has_bleed = []\n",
    "has_mix = zip(metadata_df['mix_filename'], metadata_df['has_bleed'])\n",
    "has_mix = list(has)\n",
    "\n",
    "for i in has_mix :\n",
    "    for j in mix_cible :\n",
    "        if i[0] == j :\n",
    "            has_bleed.append(i[1])"
   ]
  },
  {
   "cell_type": "code",
   "execution_count": 79,
   "metadata": {
    "tags": []
   },
   "outputs": [
    {
     "output_type": "execute_result",
     "data": {
      "text/plain": "[('AClassicEducation_NightOwl_MIX.wav', 'no'),\n ('AimeeNorwich_Child_MIX.wav', 'no'),\n ('AimeeNorwich_Flying_MIX.wav', 'no'),\n ('AlexanderRoss_GoodbyeBolero_MIX.wav', 'no'),\n ('AlexanderRoss_VelvetCurtain_MIX.wav', 'no'),\n ('AmarLal_Rest_MIX.wav', 'no'),\n ('Auctioneer_OurFutureFaces_MIX.wav', 'no'),\n ('CelestialShore_DieForUs_MIX.wav', 'no'),\n ('ChrisJacoby_BoothShotLincoln_MIX.wav', 'no'),\n ('ClaraBerryAndWooldog_AirTraffic_MIX.wav', 'no'),\n ('CroqueMadame_Oil_MIX.wav', 'no'),\n ('CroqueMadame_Pilot_MIX.wav', 'no'),\n ('FacesOnFilm_WaitingForGa_MIX.wav', 'no'),\n ('FamilyBand_Again_MIX.wav', 'yes'),\n ('InvisibleFamiliars_DisturbingWildlife_MIX.wav', 'yes'),\n ('LizNelson_Rainfall_MIX.wav', 'no'),\n ('Lushlife_ToynbeeSuite_MIX.wav', 'no'),\n ('Meaxic_TakeAStep_MIX.wav', 'no'),\n ('Meaxic_YouListen_MIX.wav', 'no'),\n ('MusicDelta_Beatles_MIX.wav', 'no'),\n ('MusicDelta_Britpop_MIX.wav', 'no'),\n ('MusicDelta_Country2_MIX.wav', 'no'),\n ('MusicDelta_Disco_MIX.wav', 'yes'),\n ('MusicDelta_Gospel_MIX.wav', 'no'),\n ('MusicDelta_Reggae_MIX.wav', 'no'),\n ('MusicDelta_Rock_MIX.wav', 'no'),\n ('MusicDelta_Rockabilly_MIX.wav', 'no'),\n ('MusicDelta_Shadows_MIX.wav', 'no'),\n ('PortStWillow_StayEven_MIX.wav', 'no'),\n ('SecretMountains_HighHorse_MIX.wav', 'no'),\n ('Snowmine_Curfews_MIX.wav', 'no'),\n ('StevenClark_Bounty_MIX.wav', 'yes'),\n ('TablaBreakbeatScience_MoodyPlucks_MIX.wav', 'no'),\n ('TablaBreakbeatScience_Vger_MIX.wav', 'no'),\n ('TheDistricts_Vermont_MIX.wav', 'no'),\n ('TheScarletBrand_LesFleursDuMal_MIX.wav', 'no')]"
     },
     "metadata": {},
     "execution_count": 79
    }
   ],
   "source": [
    "results_bleed = zip(mix_cible, has_bleed)\n",
    "results_bleed = sorted(list(hasb))\n",
    "results_bleed"
   ]
  },
  {
   "cell_type": "markdown",
   "metadata": {},
   "source": [
    "### Visualisations"
   ]
  },
  {
   "cell_type": "code",
   "execution_count": 87,
   "metadata": {},
   "outputs": [],
   "source": [
    "liste_components = [i.replace('melody', '1') for i in liste_components]\n",
    "df1 = pd.DataFrame(liste_components) "
   ]
  },
  {
   "cell_type": "code",
   "execution_count": 120,
   "metadata": {},
   "outputs": [
    {
     "output_type": "display_data",
     "data": {
      "text/plain": "<Figure size 720x576 with 1 Axes>",
      "image/svg+xml": "<?xml version=\"1.0\" encoding=\"utf-8\" standalone=\"no\"?>\r\n<!DOCTYPE svg PUBLIC \"-//W3C//DTD SVG 1.1//EN\"\r\n  \"http://www.w3.org/Graphics/SVG/1.1/DTD/svg11.dtd\">\r\n<!-- Created with matplotlib (https://matplotlib.org/) -->\r\n<svg height=\"481.95625pt\" version=\"1.1\" viewBox=\"0 0 605.803125 481.95625\" width=\"605.803125pt\" xmlns=\"http://www.w3.org/2000/svg\" xmlns:xlink=\"http://www.w3.org/1999/xlink\">\r\n <metadata>\r\n  <rdf:RDF xmlns:cc=\"http://creativecommons.org/ns#\" xmlns:dc=\"http://purl.org/dc/elements/1.1/\" xmlns:rdf=\"http://www.w3.org/1999/02/22-rdf-syntax-ns#\">\r\n   <cc:Work>\r\n    <dc:type rdf:resource=\"http://purl.org/dc/dcmitype/StillImage\"/>\r\n    <dc:date>2020-08-19T11:45:32.873628</dc:date>\r\n    <dc:format>image/svg+xml</dc:format>\r\n    <dc:creator>\r\n     <cc:Agent>\r\n      <dc:title>Matplotlib v3.3.1, https://matplotlib.org/</dc:title>\r\n     </cc:Agent>\r\n    </dc:creator>\r\n   </cc:Work>\r\n  </rdf:RDF>\r\n </metadata>\r\n <defs>\r\n  <style type=\"text/css\">*{stroke-linecap:butt;stroke-linejoin:round;}</style>\r\n </defs>\r\n <g id=\"figure_1\">\r\n  <g id=\"patch_1\">\r\n   <path d=\"M 0 481.95625 \r\nL 605.803125 481.95625 \r\nL 605.803125 0 \r\nL 0 0 \r\nz\r\n\" style=\"fill:none;\"/>\r\n  </g>\r\n  <g id=\"axes_1\">\r\n   <g id=\"patch_2\">\r\n    <path d=\"M 40.603125 457.678125 \r\nL 598.603125 457.678125 \r\nL 598.603125 22.798125 \r\nL 40.603125 22.798125 \r\nz\r\n\" style=\"fill:#ffffff;\"/>\r\n   </g>\r\n   <g id=\"patch_3\">\r\n    <path clip-path=\"url(#pe1605281e7)\" d=\"M 68.503125 457.678125 \r\nL 291.703125 457.678125 \r\nL 291.703125 405.906696 \r\nL 68.503125 405.906696 \r\nz\r\n\" style=\"fill:#3274a1;\"/>\r\n   </g>\r\n   <g id=\"patch_4\">\r\n    <path clip-path=\"url(#pe1605281e7)\" d=\"M 347.503125 457.678125 \r\nL 570.703125 457.678125 \r\nL 570.703125 43.506696 \r\nL 347.503125 43.506696 \r\nz\r\n\" style=\"fill:#e1812c;\"/>\r\n   </g>\r\n   <g id=\"matplotlib.axis_1\">\r\n    <g id=\"xtick_1\">\r\n     <g id=\"line2d_1\">\r\n      <defs>\r\n       <path d=\"M 0 0 \r\nL 0 3.5 \r\n\" id=\"m7b87105f4d\" style=\"stroke:#000000;stroke-width:0.8;\"/>\r\n      </defs>\r\n      <g>\r\n       <use style=\"stroke:#000000;stroke-width:0.8;\" x=\"180.103125\" xlink:href=\"#m7b87105f4d\" y=\"457.678125\"/>\r\n      </g>\r\n     </g>\r\n     <g id=\"text_1\">\r\n      <!-- Mélodique -->\r\n      <g transform=\"translate(154.28125 472.676562)scale(0.1 -0.1)\">\r\n       <defs>\r\n        <path d=\"M 9.8125 72.90625 \r\nL 24.515625 72.90625 \r\nL 43.109375 23.296875 \r\nL 61.8125 72.90625 \r\nL 76.515625 72.90625 \r\nL 76.515625 0 \r\nL 66.890625 0 \r\nL 66.890625 64.015625 \r\nL 48.09375 14.015625 \r\nL 38.1875 14.015625 \r\nL 19.390625 64.015625 \r\nL 19.390625 0 \r\nL 9.8125 0 \r\nz\r\n\" id=\"DejaVuSans-77\"/>\r\n        <path d=\"M 56.203125 29.59375 \r\nL 56.203125 25.203125 \r\nL 14.890625 25.203125 \r\nQ 15.484375 15.921875 20.484375 11.0625 \r\nQ 25.484375 6.203125 34.421875 6.203125 \r\nQ 39.59375 6.203125 44.453125 7.46875 \r\nQ 49.3125 8.734375 54.109375 11.28125 \r\nL 54.109375 2.78125 \r\nQ 49.265625 0.734375 44.1875 -0.34375 \r\nQ 39.109375 -1.421875 33.890625 -1.421875 \r\nQ 20.796875 -1.421875 13.15625 6.1875 \r\nQ 5.515625 13.8125 5.515625 26.8125 \r\nQ 5.515625 40.234375 12.765625 48.109375 \r\nQ 20.015625 56 32.328125 56 \r\nQ 43.359375 56 49.78125 48.890625 \r\nQ 56.203125 41.796875 56.203125 29.59375 \r\nz\r\nM 47.21875 32.234375 \r\nQ 47.125 39.59375 43.09375 43.984375 \r\nQ 39.0625 48.390625 32.421875 48.390625 \r\nQ 24.90625 48.390625 20.390625 44.140625 \r\nQ 15.875 39.890625 15.1875 32.171875 \r\nz\r\nM 38.53125 79.984375 \r\nL 48.25 79.984375 \r\nL 32.34375 61.625 \r\nL 24.859375 61.625 \r\nz\r\n\" id=\"DejaVuSans-233\"/>\r\n        <path d=\"M 9.421875 75.984375 \r\nL 18.40625 75.984375 \r\nL 18.40625 0 \r\nL 9.421875 0 \r\nz\r\n\" id=\"DejaVuSans-108\"/>\r\n        <path d=\"M 30.609375 48.390625 \r\nQ 23.390625 48.390625 19.1875 42.75 \r\nQ 14.984375 37.109375 14.984375 27.296875 \r\nQ 14.984375 17.484375 19.15625 11.84375 \r\nQ 23.34375 6.203125 30.609375 6.203125 \r\nQ 37.796875 6.203125 41.984375 11.859375 \r\nQ 46.1875 17.53125 46.1875 27.296875 \r\nQ 46.1875 37.015625 41.984375 42.703125 \r\nQ 37.796875 48.390625 30.609375 48.390625 \r\nz\r\nM 30.609375 56 \r\nQ 42.328125 56 49.015625 48.375 \r\nQ 55.71875 40.765625 55.71875 27.296875 \r\nQ 55.71875 13.875 49.015625 6.21875 \r\nQ 42.328125 -1.421875 30.609375 -1.421875 \r\nQ 18.84375 -1.421875 12.171875 6.21875 \r\nQ 5.515625 13.875 5.515625 27.296875 \r\nQ 5.515625 40.765625 12.171875 48.375 \r\nQ 18.84375 56 30.609375 56 \r\nz\r\n\" id=\"DejaVuSans-111\"/>\r\n        <path d=\"M 45.40625 46.390625 \r\nL 45.40625 75.984375 \r\nL 54.390625 75.984375 \r\nL 54.390625 0 \r\nL 45.40625 0 \r\nL 45.40625 8.203125 \r\nQ 42.578125 3.328125 38.25 0.953125 \r\nQ 33.9375 -1.421875 27.875 -1.421875 \r\nQ 17.96875 -1.421875 11.734375 6.484375 \r\nQ 5.515625 14.40625 5.515625 27.296875 \r\nQ 5.515625 40.1875 11.734375 48.09375 \r\nQ 17.96875 56 27.875 56 \r\nQ 33.9375 56 38.25 53.625 \r\nQ 42.578125 51.265625 45.40625 46.390625 \r\nz\r\nM 14.796875 27.296875 \r\nQ 14.796875 17.390625 18.875 11.75 \r\nQ 22.953125 6.109375 30.078125 6.109375 \r\nQ 37.203125 6.109375 41.296875 11.75 \r\nQ 45.40625 17.390625 45.40625 27.296875 \r\nQ 45.40625 37.203125 41.296875 42.84375 \r\nQ 37.203125 48.484375 30.078125 48.484375 \r\nQ 22.953125 48.484375 18.875 42.84375 \r\nQ 14.796875 37.203125 14.796875 27.296875 \r\nz\r\n\" id=\"DejaVuSans-100\"/>\r\n        <path d=\"M 9.421875 54.6875 \r\nL 18.40625 54.6875 \r\nL 18.40625 0 \r\nL 9.421875 0 \r\nz\r\nM 9.421875 75.984375 \r\nL 18.40625 75.984375 \r\nL 18.40625 64.59375 \r\nL 9.421875 64.59375 \r\nz\r\n\" id=\"DejaVuSans-105\"/>\r\n        <path d=\"M 14.796875 27.296875 \r\nQ 14.796875 17.390625 18.875 11.75 \r\nQ 22.953125 6.109375 30.078125 6.109375 \r\nQ 37.203125 6.109375 41.296875 11.75 \r\nQ 45.40625 17.390625 45.40625 27.296875 \r\nQ 45.40625 37.203125 41.296875 42.84375 \r\nQ 37.203125 48.484375 30.078125 48.484375 \r\nQ 22.953125 48.484375 18.875 42.84375 \r\nQ 14.796875 37.203125 14.796875 27.296875 \r\nz\r\nM 45.40625 8.203125 \r\nQ 42.578125 3.328125 38.25 0.953125 \r\nQ 33.9375 -1.421875 27.875 -1.421875 \r\nQ 17.96875 -1.421875 11.734375 6.484375 \r\nQ 5.515625 14.40625 5.515625 27.296875 \r\nQ 5.515625 40.1875 11.734375 48.09375 \r\nQ 17.96875 56 27.875 56 \r\nQ 33.9375 56 38.25 53.625 \r\nQ 42.578125 51.265625 45.40625 46.390625 \r\nL 45.40625 54.6875 \r\nL 54.390625 54.6875 \r\nL 54.390625 -20.796875 \r\nL 45.40625 -20.796875 \r\nz\r\n\" id=\"DejaVuSans-113\"/>\r\n        <path d=\"M 8.5 21.578125 \r\nL 8.5 54.6875 \r\nL 17.484375 54.6875 \r\nL 17.484375 21.921875 \r\nQ 17.484375 14.15625 20.5 10.265625 \r\nQ 23.53125 6.390625 29.59375 6.390625 \r\nQ 36.859375 6.390625 41.078125 11.03125 \r\nQ 45.3125 15.671875 45.3125 23.6875 \r\nL 45.3125 54.6875 \r\nL 54.296875 54.6875 \r\nL 54.296875 0 \r\nL 45.3125 0 \r\nL 45.3125 8.40625 \r\nQ 42.046875 3.421875 37.71875 1 \r\nQ 33.40625 -1.421875 27.6875 -1.421875 \r\nQ 18.265625 -1.421875 13.375 4.4375 \r\nQ 8.5 10.296875 8.5 21.578125 \r\nz\r\nM 31.109375 56 \r\nz\r\n\" id=\"DejaVuSans-117\"/>\r\n        <path d=\"M 56.203125 29.59375 \r\nL 56.203125 25.203125 \r\nL 14.890625 25.203125 \r\nQ 15.484375 15.921875 20.484375 11.0625 \r\nQ 25.484375 6.203125 34.421875 6.203125 \r\nQ 39.59375 6.203125 44.453125 7.46875 \r\nQ 49.3125 8.734375 54.109375 11.28125 \r\nL 54.109375 2.78125 \r\nQ 49.265625 0.734375 44.1875 -0.34375 \r\nQ 39.109375 -1.421875 33.890625 -1.421875 \r\nQ 20.796875 -1.421875 13.15625 6.1875 \r\nQ 5.515625 13.8125 5.515625 26.8125 \r\nQ 5.515625 40.234375 12.765625 48.109375 \r\nQ 20.015625 56 32.328125 56 \r\nQ 43.359375 56 49.78125 48.890625 \r\nQ 56.203125 41.796875 56.203125 29.59375 \r\nz\r\nM 47.21875 32.234375 \r\nQ 47.125 39.59375 43.09375 43.984375 \r\nQ 39.0625 48.390625 32.421875 48.390625 \r\nQ 24.90625 48.390625 20.390625 44.140625 \r\nQ 15.875 39.890625 15.1875 32.171875 \r\nz\r\n\" id=\"DejaVuSans-101\"/>\r\n       </defs>\r\n       <use xlink:href=\"#DejaVuSans-77\"/>\r\n       <use x=\"86.279297\" xlink:href=\"#DejaVuSans-233\"/>\r\n       <use x=\"147.802734\" xlink:href=\"#DejaVuSans-108\"/>\r\n       <use x=\"175.585938\" xlink:href=\"#DejaVuSans-111\"/>\r\n       <use x=\"236.767578\" xlink:href=\"#DejaVuSans-100\"/>\r\n       <use x=\"300.244141\" xlink:href=\"#DejaVuSans-105\"/>\r\n       <use x=\"328.027344\" xlink:href=\"#DejaVuSans-113\"/>\r\n       <use x=\"391.503906\" xlink:href=\"#DejaVuSans-117\"/>\r\n       <use x=\"454.882812\" xlink:href=\"#DejaVuSans-101\"/>\r\n      </g>\r\n     </g>\r\n    </g>\r\n    <g id=\"xtick_2\">\r\n     <g id=\"line2d_2\">\r\n      <g>\r\n       <use style=\"stroke:#000000;stroke-width:0.8;\" x=\"459.103125\" xlink:href=\"#m7b87105f4d\" y=\"457.678125\"/>\r\n      </g>\r\n     </g>\r\n     <g id=\"text_2\">\r\n      <!-- Neutre -->\r\n      <g transform=\"translate(442.1375 472.276562)scale(0.1 -0.1)\">\r\n       <defs>\r\n        <path d=\"M 9.8125 72.90625 \r\nL 23.09375 72.90625 \r\nL 55.421875 11.921875 \r\nL 55.421875 72.90625 \r\nL 64.984375 72.90625 \r\nL 64.984375 0 \r\nL 51.703125 0 \r\nL 19.390625 60.984375 \r\nL 19.390625 0 \r\nL 9.8125 0 \r\nz\r\n\" id=\"DejaVuSans-78\"/>\r\n        <path d=\"M 18.3125 70.21875 \r\nL 18.3125 54.6875 \r\nL 36.8125 54.6875 \r\nL 36.8125 47.703125 \r\nL 18.3125 47.703125 \r\nL 18.3125 18.015625 \r\nQ 18.3125 11.328125 20.140625 9.421875 \r\nQ 21.96875 7.515625 27.59375 7.515625 \r\nL 36.8125 7.515625 \r\nL 36.8125 0 \r\nL 27.59375 0 \r\nQ 17.1875 0 13.234375 3.875 \r\nQ 9.28125 7.765625 9.28125 18.015625 \r\nL 9.28125 47.703125 \r\nL 2.6875 47.703125 \r\nL 2.6875 54.6875 \r\nL 9.28125 54.6875 \r\nL 9.28125 70.21875 \r\nz\r\n\" id=\"DejaVuSans-116\"/>\r\n        <path d=\"M 41.109375 46.296875 \r\nQ 39.59375 47.171875 37.8125 47.578125 \r\nQ 36.03125 48 33.890625 48 \r\nQ 26.265625 48 22.1875 43.046875 \r\nQ 18.109375 38.09375 18.109375 28.8125 \r\nL 18.109375 0 \r\nL 9.078125 0 \r\nL 9.078125 54.6875 \r\nL 18.109375 54.6875 \r\nL 18.109375 46.1875 \r\nQ 20.953125 51.171875 25.484375 53.578125 \r\nQ 30.03125 56 36.53125 56 \r\nQ 37.453125 56 38.578125 55.875 \r\nQ 39.703125 55.765625 41.0625 55.515625 \r\nz\r\n\" id=\"DejaVuSans-114\"/>\r\n       </defs>\r\n       <use xlink:href=\"#DejaVuSans-78\"/>\r\n       <use x=\"74.804688\" xlink:href=\"#DejaVuSans-101\"/>\r\n       <use x=\"136.328125\" xlink:href=\"#DejaVuSans-117\"/>\r\n       <use x=\"199.707031\" xlink:href=\"#DejaVuSans-116\"/>\r\n       <use x=\"238.916016\" xlink:href=\"#DejaVuSans-114\"/>\r\n       <use x=\"277.779297\" xlink:href=\"#DejaVuSans-101\"/>\r\n      </g>\r\n     </g>\r\n    </g>\r\n   </g>\r\n   <g id=\"matplotlib.axis_2\">\r\n    <g id=\"ytick_1\">\r\n     <g id=\"line2d_3\">\r\n      <defs>\r\n       <path d=\"M 0 0 \r\nL -3.5 0 \r\n\" id=\"m7e1eca9b86\" style=\"stroke:#000000;stroke-width:0.8;\"/>\r\n      </defs>\r\n      <g>\r\n       <use style=\"stroke:#000000;stroke-width:0.8;\" x=\"40.603125\" xlink:href=\"#m7e1eca9b86\" y=\"457.678125\"/>\r\n      </g>\r\n     </g>\r\n     <g id=\"text_3\">\r\n      <!-- 0 -->\r\n      <g transform=\"translate(27.240625 461.477344)scale(0.1 -0.1)\">\r\n       <defs>\r\n        <path d=\"M 31.78125 66.40625 \r\nQ 24.171875 66.40625 20.328125 58.90625 \r\nQ 16.5 51.421875 16.5 36.375 \r\nQ 16.5 21.390625 20.328125 13.890625 \r\nQ 24.171875 6.390625 31.78125 6.390625 \r\nQ 39.453125 6.390625 43.28125 13.890625 \r\nQ 47.125 21.390625 47.125 36.375 \r\nQ 47.125 51.421875 43.28125 58.90625 \r\nQ 39.453125 66.40625 31.78125 66.40625 \r\nz\r\nM 31.78125 74.21875 \r\nQ 44.046875 74.21875 50.515625 64.515625 \r\nQ 56.984375 54.828125 56.984375 36.375 \r\nQ 56.984375 17.96875 50.515625 8.265625 \r\nQ 44.046875 -1.421875 31.78125 -1.421875 \r\nQ 19.53125 -1.421875 13.0625 8.265625 \r\nQ 6.59375 17.96875 6.59375 36.375 \r\nQ 6.59375 54.828125 13.0625 64.515625 \r\nQ 19.53125 74.21875 31.78125 74.21875 \r\nz\r\n\" id=\"DejaVuSans-48\"/>\r\n       </defs>\r\n       <use xlink:href=\"#DejaVuSans-48\"/>\r\n      </g>\r\n     </g>\r\n    </g>\r\n    <g id=\"ytick_2\">\r\n     <g id=\"line2d_4\">\r\n      <g>\r\n       <use style=\"stroke:#000000;stroke-width:0.8;\" x=\"40.603125\" xlink:href=\"#m7e1eca9b86\" y=\"392.963839\"/>\r\n      </g>\r\n     </g>\r\n     <g id=\"text_4\">\r\n      <!-- 5 -->\r\n      <g transform=\"translate(27.240625 396.763058)scale(0.1 -0.1)\">\r\n       <defs>\r\n        <path d=\"M 10.796875 72.90625 \r\nL 49.515625 72.90625 \r\nL 49.515625 64.59375 \r\nL 19.828125 64.59375 \r\nL 19.828125 46.734375 \r\nQ 21.96875 47.46875 24.109375 47.828125 \r\nQ 26.265625 48.1875 28.421875 48.1875 \r\nQ 40.625 48.1875 47.75 41.5 \r\nQ 54.890625 34.8125 54.890625 23.390625 \r\nQ 54.890625 11.625 47.5625 5.09375 \r\nQ 40.234375 -1.421875 26.90625 -1.421875 \r\nQ 22.3125 -1.421875 17.546875 -0.640625 \r\nQ 12.796875 0.140625 7.71875 1.703125 \r\nL 7.71875 11.625 \r\nQ 12.109375 9.234375 16.796875 8.0625 \r\nQ 21.484375 6.890625 26.703125 6.890625 \r\nQ 35.15625 6.890625 40.078125 11.328125 \r\nQ 45.015625 15.765625 45.015625 23.390625 \r\nQ 45.015625 31 40.078125 35.4375 \r\nQ 35.15625 39.890625 26.703125 39.890625 \r\nQ 22.75 39.890625 18.8125 39.015625 \r\nQ 14.890625 38.140625 10.796875 36.28125 \r\nz\r\n\" id=\"DejaVuSans-53\"/>\r\n       </defs>\r\n       <use xlink:href=\"#DejaVuSans-53\"/>\r\n      </g>\r\n     </g>\r\n    </g>\r\n    <g id=\"ytick_3\">\r\n     <g id=\"line2d_5\">\r\n      <g>\r\n       <use style=\"stroke:#000000;stroke-width:0.8;\" x=\"40.603125\" xlink:href=\"#m7e1eca9b86\" y=\"328.249554\"/>\r\n      </g>\r\n     </g>\r\n     <g id=\"text_5\">\r\n      <!-- 10 -->\r\n      <g transform=\"translate(20.878125 332.048772)scale(0.1 -0.1)\">\r\n       <defs>\r\n        <path d=\"M 12.40625 8.296875 \r\nL 28.515625 8.296875 \r\nL 28.515625 63.921875 \r\nL 10.984375 60.40625 \r\nL 10.984375 69.390625 \r\nL 28.421875 72.90625 \r\nL 38.28125 72.90625 \r\nL 38.28125 8.296875 \r\nL 54.390625 8.296875 \r\nL 54.390625 0 \r\nL 12.40625 0 \r\nz\r\n\" id=\"DejaVuSans-49\"/>\r\n       </defs>\r\n       <use xlink:href=\"#DejaVuSans-49\"/>\r\n       <use x=\"63.623047\" xlink:href=\"#DejaVuSans-48\"/>\r\n      </g>\r\n     </g>\r\n    </g>\r\n    <g id=\"ytick_4\">\r\n     <g id=\"line2d_6\">\r\n      <g>\r\n       <use style=\"stroke:#000000;stroke-width:0.8;\" x=\"40.603125\" xlink:href=\"#m7e1eca9b86\" y=\"263.535268\"/>\r\n      </g>\r\n     </g>\r\n     <g id=\"text_6\">\r\n      <!-- 15 -->\r\n      <g transform=\"translate(20.878125 267.334487)scale(0.1 -0.1)\">\r\n       <use xlink:href=\"#DejaVuSans-49\"/>\r\n       <use x=\"63.623047\" xlink:href=\"#DejaVuSans-53\"/>\r\n      </g>\r\n     </g>\r\n    </g>\r\n    <g id=\"ytick_5\">\r\n     <g id=\"line2d_7\">\r\n      <g>\r\n       <use style=\"stroke:#000000;stroke-width:0.8;\" x=\"40.603125\" xlink:href=\"#m7e1eca9b86\" y=\"198.820982\"/>\r\n      </g>\r\n     </g>\r\n     <g id=\"text_7\">\r\n      <!-- 20 -->\r\n      <g transform=\"translate(20.878125 202.620201)scale(0.1 -0.1)\">\r\n       <defs>\r\n        <path d=\"M 19.1875 8.296875 \r\nL 53.609375 8.296875 \r\nL 53.609375 0 \r\nL 7.328125 0 \r\nL 7.328125 8.296875 \r\nQ 12.9375 14.109375 22.625 23.890625 \r\nQ 32.328125 33.6875 34.8125 36.53125 \r\nQ 39.546875 41.84375 41.421875 45.53125 \r\nQ 43.3125 49.21875 43.3125 52.78125 \r\nQ 43.3125 58.59375 39.234375 62.25 \r\nQ 35.15625 65.921875 28.609375 65.921875 \r\nQ 23.96875 65.921875 18.8125 64.3125 \r\nQ 13.671875 62.703125 7.8125 59.421875 \r\nL 7.8125 69.390625 \r\nQ 13.765625 71.78125 18.9375 73 \r\nQ 24.125 74.21875 28.421875 74.21875 \r\nQ 39.75 74.21875 46.484375 68.546875 \r\nQ 53.21875 62.890625 53.21875 53.421875 \r\nQ 53.21875 48.921875 51.53125 44.890625 \r\nQ 49.859375 40.875 45.40625 35.40625 \r\nQ 44.1875 33.984375 37.640625 27.21875 \r\nQ 31.109375 20.453125 19.1875 8.296875 \r\nz\r\n\" id=\"DejaVuSans-50\"/>\r\n       </defs>\r\n       <use xlink:href=\"#DejaVuSans-50\"/>\r\n       <use x=\"63.623047\" xlink:href=\"#DejaVuSans-48\"/>\r\n      </g>\r\n     </g>\r\n    </g>\r\n    <g id=\"ytick_6\">\r\n     <g id=\"line2d_8\">\r\n      <g>\r\n       <use style=\"stroke:#000000;stroke-width:0.8;\" x=\"40.603125\" xlink:href=\"#m7e1eca9b86\" y=\"134.106696\"/>\r\n      </g>\r\n     </g>\r\n     <g id=\"text_8\">\r\n      <!-- 25 -->\r\n      <g transform=\"translate(20.878125 137.905915)scale(0.1 -0.1)\">\r\n       <use xlink:href=\"#DejaVuSans-50\"/>\r\n       <use x=\"63.623047\" xlink:href=\"#DejaVuSans-53\"/>\r\n      </g>\r\n     </g>\r\n    </g>\r\n    <g id=\"ytick_7\">\r\n     <g id=\"line2d_9\">\r\n      <g>\r\n       <use style=\"stroke:#000000;stroke-width:0.8;\" x=\"40.603125\" xlink:href=\"#m7e1eca9b86\" y=\"69.392411\"/>\r\n      </g>\r\n     </g>\r\n     <g id=\"text_9\">\r\n      <!-- 30 -->\r\n      <g transform=\"translate(20.878125 73.191629)scale(0.1 -0.1)\">\r\n       <defs>\r\n        <path d=\"M 40.578125 39.3125 \r\nQ 47.65625 37.796875 51.625 33 \r\nQ 55.609375 28.21875 55.609375 21.1875 \r\nQ 55.609375 10.40625 48.1875 4.484375 \r\nQ 40.765625 -1.421875 27.09375 -1.421875 \r\nQ 22.515625 -1.421875 17.65625 -0.515625 \r\nQ 12.796875 0.390625 7.625 2.203125 \r\nL 7.625 11.71875 \r\nQ 11.71875 9.328125 16.59375 8.109375 \r\nQ 21.484375 6.890625 26.8125 6.890625 \r\nQ 36.078125 6.890625 40.9375 10.546875 \r\nQ 45.796875 14.203125 45.796875 21.1875 \r\nQ 45.796875 27.640625 41.28125 31.265625 \r\nQ 36.765625 34.90625 28.71875 34.90625 \r\nL 20.21875 34.90625 \r\nL 20.21875 43.015625 \r\nL 29.109375 43.015625 \r\nQ 36.375 43.015625 40.234375 45.921875 \r\nQ 44.09375 48.828125 44.09375 54.296875 \r\nQ 44.09375 59.90625 40.109375 62.90625 \r\nQ 36.140625 65.921875 28.71875 65.921875 \r\nQ 24.65625 65.921875 20.015625 65.03125 \r\nQ 15.375 64.15625 9.8125 62.3125 \r\nL 9.8125 71.09375 \r\nQ 15.4375 72.65625 20.34375 73.4375 \r\nQ 25.25 74.21875 29.59375 74.21875 \r\nQ 40.828125 74.21875 47.359375 69.109375 \r\nQ 53.90625 64.015625 53.90625 55.328125 \r\nQ 53.90625 49.265625 50.4375 45.09375 \r\nQ 46.96875 40.921875 40.578125 39.3125 \r\nz\r\n\" id=\"DejaVuSans-51\"/>\r\n       </defs>\r\n       <use xlink:href=\"#DejaVuSans-51\"/>\r\n       <use x=\"63.623047\" xlink:href=\"#DejaVuSans-48\"/>\r\n      </g>\r\n     </g>\r\n    </g>\r\n    <g id=\"text_10\">\r\n     <!-- Taille de l'échantillon -->\r\n     <g transform=\"translate(14.798438 292.549844)rotate(-90)scale(0.1 -0.1)\">\r\n      <defs>\r\n       <path d=\"M -0.296875 72.90625 \r\nL 61.375 72.90625 \r\nL 61.375 64.59375 \r\nL 35.5 64.59375 \r\nL 35.5 0 \r\nL 25.59375 0 \r\nL 25.59375 64.59375 \r\nL -0.296875 64.59375 \r\nz\r\n\" id=\"DejaVuSans-84\"/>\r\n       <path d=\"M 34.28125 27.484375 \r\nQ 23.390625 27.484375 19.1875 25 \r\nQ 14.984375 22.515625 14.984375 16.5 \r\nQ 14.984375 11.71875 18.140625 8.90625 \r\nQ 21.296875 6.109375 26.703125 6.109375 \r\nQ 34.1875 6.109375 38.703125 11.40625 \r\nQ 43.21875 16.703125 43.21875 25.484375 \r\nL 43.21875 27.484375 \r\nz\r\nM 52.203125 31.203125 \r\nL 52.203125 0 \r\nL 43.21875 0 \r\nL 43.21875 8.296875 \r\nQ 40.140625 3.328125 35.546875 0.953125 \r\nQ 30.953125 -1.421875 24.3125 -1.421875 \r\nQ 15.921875 -1.421875 10.953125 3.296875 \r\nQ 6 8.015625 6 15.921875 \r\nQ 6 25.140625 12.171875 29.828125 \r\nQ 18.359375 34.515625 30.609375 34.515625 \r\nL 43.21875 34.515625 \r\nL 43.21875 35.40625 \r\nQ 43.21875 41.609375 39.140625 45 \r\nQ 35.0625 48.390625 27.6875 48.390625 \r\nQ 23 48.390625 18.546875 47.265625 \r\nQ 14.109375 46.140625 10.015625 43.890625 \r\nL 10.015625 52.203125 \r\nQ 14.9375 54.109375 19.578125 55.046875 \r\nQ 24.21875 56 28.609375 56 \r\nQ 40.484375 56 46.34375 49.84375 \r\nQ 52.203125 43.703125 52.203125 31.203125 \r\nz\r\n\" id=\"DejaVuSans-97\"/>\r\n       <path id=\"DejaVuSans-32\"/>\r\n       <path d=\"M 17.921875 72.90625 \r\nL 17.921875 45.796875 \r\nL 9.625 45.796875 \r\nL 9.625 72.90625 \r\nz\r\n\" id=\"DejaVuSans-39\"/>\r\n       <path d=\"M 48.78125 52.59375 \r\nL 48.78125 44.1875 \r\nQ 44.96875 46.296875 41.140625 47.34375 \r\nQ 37.3125 48.390625 33.40625 48.390625 \r\nQ 24.65625 48.390625 19.8125 42.84375 \r\nQ 14.984375 37.3125 14.984375 27.296875 \r\nQ 14.984375 17.28125 19.8125 11.734375 \r\nQ 24.65625 6.203125 33.40625 6.203125 \r\nQ 37.3125 6.203125 41.140625 7.25 \r\nQ 44.96875 8.296875 48.78125 10.40625 \r\nL 48.78125 2.09375 \r\nQ 45.015625 0.34375 40.984375 -0.53125 \r\nQ 36.96875 -1.421875 32.421875 -1.421875 \r\nQ 20.0625 -1.421875 12.78125 6.34375 \r\nQ 5.515625 14.109375 5.515625 27.296875 \r\nQ 5.515625 40.671875 12.859375 48.328125 \r\nQ 20.21875 56 33.015625 56 \r\nQ 37.15625 56 41.109375 55.140625 \r\nQ 45.0625 54.296875 48.78125 52.59375 \r\nz\r\n\" id=\"DejaVuSans-99\"/>\r\n       <path d=\"M 54.890625 33.015625 \r\nL 54.890625 0 \r\nL 45.90625 0 \r\nL 45.90625 32.71875 \r\nQ 45.90625 40.484375 42.875 44.328125 \r\nQ 39.84375 48.1875 33.796875 48.1875 \r\nQ 26.515625 48.1875 22.3125 43.546875 \r\nQ 18.109375 38.921875 18.109375 30.90625 \r\nL 18.109375 0 \r\nL 9.078125 0 \r\nL 9.078125 75.984375 \r\nL 18.109375 75.984375 \r\nL 18.109375 46.1875 \r\nQ 21.34375 51.125 25.703125 53.5625 \r\nQ 30.078125 56 35.796875 56 \r\nQ 45.21875 56 50.046875 50.171875 \r\nQ 54.890625 44.34375 54.890625 33.015625 \r\nz\r\n\" id=\"DejaVuSans-104\"/>\r\n       <path d=\"M 54.890625 33.015625 \r\nL 54.890625 0 \r\nL 45.90625 0 \r\nL 45.90625 32.71875 \r\nQ 45.90625 40.484375 42.875 44.328125 \r\nQ 39.84375 48.1875 33.796875 48.1875 \r\nQ 26.515625 48.1875 22.3125 43.546875 \r\nQ 18.109375 38.921875 18.109375 30.90625 \r\nL 18.109375 0 \r\nL 9.078125 0 \r\nL 9.078125 54.6875 \r\nL 18.109375 54.6875 \r\nL 18.109375 46.1875 \r\nQ 21.34375 51.125 25.703125 53.5625 \r\nQ 30.078125 56 35.796875 56 \r\nQ 45.21875 56 50.046875 50.171875 \r\nQ 54.890625 44.34375 54.890625 33.015625 \r\nz\r\n\" id=\"DejaVuSans-110\"/>\r\n      </defs>\r\n      <use xlink:href=\"#DejaVuSans-84\"/>\r\n      <use x=\"44.583984\" xlink:href=\"#DejaVuSans-97\"/>\r\n      <use x=\"105.863281\" xlink:href=\"#DejaVuSans-105\"/>\r\n      <use x=\"133.646484\" xlink:href=\"#DejaVuSans-108\"/>\r\n      <use x=\"161.429688\" xlink:href=\"#DejaVuSans-108\"/>\r\n      <use x=\"189.212891\" xlink:href=\"#DejaVuSans-101\"/>\r\n      <use x=\"250.736328\" xlink:href=\"#DejaVuSans-32\"/>\r\n      <use x=\"282.523438\" xlink:href=\"#DejaVuSans-100\"/>\r\n      <use x=\"346\" xlink:href=\"#DejaVuSans-101\"/>\r\n      <use x=\"407.523438\" xlink:href=\"#DejaVuSans-32\"/>\r\n      <use x=\"439.310547\" xlink:href=\"#DejaVuSans-108\"/>\r\n      <use x=\"467.09375\" xlink:href=\"#DejaVuSans-39\"/>\r\n      <use x=\"494.583984\" xlink:href=\"#DejaVuSans-233\"/>\r\n      <use x=\"556.107422\" xlink:href=\"#DejaVuSans-99\"/>\r\n      <use x=\"611.087891\" xlink:href=\"#DejaVuSans-104\"/>\r\n      <use x=\"674.466797\" xlink:href=\"#DejaVuSans-97\"/>\r\n      <use x=\"735.746094\" xlink:href=\"#DejaVuSans-110\"/>\r\n      <use x=\"799.125\" xlink:href=\"#DejaVuSans-116\"/>\r\n      <use x=\"838.333984\" xlink:href=\"#DejaVuSans-105\"/>\r\n      <use x=\"866.117188\" xlink:href=\"#DejaVuSans-108\"/>\r\n      <use x=\"893.900391\" xlink:href=\"#DejaVuSans-108\"/>\r\n      <use x=\"921.683594\" xlink:href=\"#DejaVuSans-111\"/>\r\n      <use x=\"982.865234\" xlink:href=\"#DejaVuSans-110\"/>\r\n     </g>\r\n    </g>\r\n   </g>\r\n   <g id=\"line2d_10\">\r\n    <path clip-path=\"url(#pe1605281e7)\" d=\"M 0 0 \r\n\" style=\"fill:none;stroke:#424242;stroke-linecap:square;stroke-width:2.7;\"/>\r\n   </g>\r\n   <g id=\"line2d_11\">\r\n    <path clip-path=\"url(#pe1605281e7)\" d=\"M 0 0 \r\n\" style=\"fill:none;stroke:#424242;stroke-linecap:square;stroke-width:2.7;\"/>\r\n   </g>\r\n   <g id=\"patch_5\">\r\n    <path d=\"M 40.603125 457.678125 \r\nL 40.603125 22.798125 \r\n\" style=\"fill:none;stroke:#000000;stroke-linecap:square;stroke-linejoin:miter;stroke-width:0.8;\"/>\r\n   </g>\r\n   <g id=\"patch_6\">\r\n    <path d=\"M 598.603125 457.678125 \r\nL 598.603125 22.798125 \r\n\" style=\"fill:none;stroke:#000000;stroke-linecap:square;stroke-linejoin:miter;stroke-width:0.8;\"/>\r\n   </g>\r\n   <g id=\"patch_7\">\r\n    <path d=\"M 40.603125 457.678125 \r\nL 598.603125 457.678125 \r\n\" style=\"fill:none;stroke:#000000;stroke-linecap:square;stroke-linejoin:miter;stroke-width:0.8;\"/>\r\n   </g>\r\n   <g id=\"patch_8\">\r\n    <path d=\"M 40.603125 22.798125 \r\nL 598.603125 22.798125 \r\n\" style=\"fill:none;stroke:#000000;stroke-linecap:square;stroke-linejoin:miter;stroke-width:0.8;\"/>\r\n   </g>\r\n   <g id=\"text_11\">\r\n    <!-- Répartition pistes mélodiques ou neutre -->\r\n    <g transform=\"translate(199.223437 16.798125)scale(0.12 -0.12)\">\r\n     <defs>\r\n      <path d=\"M 44.390625 34.1875 \r\nQ 47.5625 33.109375 50.5625 29.59375 \r\nQ 53.5625 26.078125 56.59375 19.921875 \r\nL 66.609375 0 \r\nL 56 0 \r\nL 46.6875 18.703125 \r\nQ 43.0625 26.03125 39.671875 28.421875 \r\nQ 36.28125 30.8125 30.421875 30.8125 \r\nL 19.671875 30.8125 \r\nL 19.671875 0 \r\nL 9.8125 0 \r\nL 9.8125 72.90625 \r\nL 32.078125 72.90625 \r\nQ 44.578125 72.90625 50.734375 67.671875 \r\nQ 56.890625 62.453125 56.890625 51.90625 \r\nQ 56.890625 45.015625 53.6875 40.46875 \r\nQ 50.484375 35.9375 44.390625 34.1875 \r\nz\r\nM 19.671875 64.796875 \r\nL 19.671875 38.921875 \r\nL 32.078125 38.921875 \r\nQ 39.203125 38.921875 42.84375 42.21875 \r\nQ 46.484375 45.515625 46.484375 51.90625 \r\nQ 46.484375 58.296875 42.84375 61.546875 \r\nQ 39.203125 64.796875 32.078125 64.796875 \r\nz\r\n\" id=\"DejaVuSans-82\"/>\r\n      <path d=\"M 18.109375 8.203125 \r\nL 18.109375 -20.796875 \r\nL 9.078125 -20.796875 \r\nL 9.078125 54.6875 \r\nL 18.109375 54.6875 \r\nL 18.109375 46.390625 \r\nQ 20.953125 51.265625 25.265625 53.625 \r\nQ 29.59375 56 35.59375 56 \r\nQ 45.5625 56 51.78125 48.09375 \r\nQ 58.015625 40.1875 58.015625 27.296875 \r\nQ 58.015625 14.40625 51.78125 6.484375 \r\nQ 45.5625 -1.421875 35.59375 -1.421875 \r\nQ 29.59375 -1.421875 25.265625 0.953125 \r\nQ 20.953125 3.328125 18.109375 8.203125 \r\nz\r\nM 48.6875 27.296875 \r\nQ 48.6875 37.203125 44.609375 42.84375 \r\nQ 40.53125 48.484375 33.40625 48.484375 \r\nQ 26.265625 48.484375 22.1875 42.84375 \r\nQ 18.109375 37.203125 18.109375 27.296875 \r\nQ 18.109375 17.390625 22.1875 11.75 \r\nQ 26.265625 6.109375 33.40625 6.109375 \r\nQ 40.53125 6.109375 44.609375 11.75 \r\nQ 48.6875 17.390625 48.6875 27.296875 \r\nz\r\n\" id=\"DejaVuSans-112\"/>\r\n      <path d=\"M 44.28125 53.078125 \r\nL 44.28125 44.578125 \r\nQ 40.484375 46.53125 36.375 47.5 \r\nQ 32.28125 48.484375 27.875 48.484375 \r\nQ 21.1875 48.484375 17.84375 46.4375 \r\nQ 14.5 44.390625 14.5 40.28125 \r\nQ 14.5 37.15625 16.890625 35.375 \r\nQ 19.28125 33.59375 26.515625 31.984375 \r\nL 29.59375 31.296875 \r\nQ 39.15625 29.25 43.1875 25.515625 \r\nQ 47.21875 21.78125 47.21875 15.09375 \r\nQ 47.21875 7.46875 41.1875 3.015625 \r\nQ 35.15625 -1.421875 24.609375 -1.421875 \r\nQ 20.21875 -1.421875 15.453125 -0.5625 \r\nQ 10.6875 0.296875 5.421875 2 \r\nL 5.421875 11.28125 \r\nQ 10.40625 8.6875 15.234375 7.390625 \r\nQ 20.0625 6.109375 24.8125 6.109375 \r\nQ 31.15625 6.109375 34.5625 8.28125 \r\nQ 37.984375 10.453125 37.984375 14.40625 \r\nQ 37.984375 18.0625 35.515625 20.015625 \r\nQ 33.0625 21.96875 24.703125 23.78125 \r\nL 21.578125 24.515625 \r\nQ 13.234375 26.265625 9.515625 29.90625 \r\nQ 5.8125 33.546875 5.8125 39.890625 \r\nQ 5.8125 47.609375 11.28125 51.796875 \r\nQ 16.75 56 26.8125 56 \r\nQ 31.78125 56 36.171875 55.265625 \r\nQ 40.578125 54.546875 44.28125 53.078125 \r\nz\r\n\" id=\"DejaVuSans-115\"/>\r\n      <path d=\"M 52 44.1875 \r\nQ 55.375 50.25 60.0625 53.125 \r\nQ 64.75 56 71.09375 56 \r\nQ 79.640625 56 84.28125 50.015625 \r\nQ 88.921875 44.046875 88.921875 33.015625 \r\nL 88.921875 0 \r\nL 79.890625 0 \r\nL 79.890625 32.71875 \r\nQ 79.890625 40.578125 77.09375 44.375 \r\nQ 74.3125 48.1875 68.609375 48.1875 \r\nQ 61.625 48.1875 57.5625 43.546875 \r\nQ 53.515625 38.921875 53.515625 30.90625 \r\nL 53.515625 0 \r\nL 44.484375 0 \r\nL 44.484375 32.71875 \r\nQ 44.484375 40.625 41.703125 44.40625 \r\nQ 38.921875 48.1875 33.109375 48.1875 \r\nQ 26.21875 48.1875 22.15625 43.53125 \r\nQ 18.109375 38.875 18.109375 30.90625 \r\nL 18.109375 0 \r\nL 9.078125 0 \r\nL 9.078125 54.6875 \r\nL 18.109375 54.6875 \r\nL 18.109375 46.1875 \r\nQ 21.1875 51.21875 25.484375 53.609375 \r\nQ 29.78125 56 35.6875 56 \r\nQ 41.65625 56 45.828125 52.96875 \r\nQ 50 49.953125 52 44.1875 \r\nz\r\n\" id=\"DejaVuSans-109\"/>\r\n     </defs>\r\n     <use xlink:href=\"#DejaVuSans-82\"/>\r\n     <use x=\"64.982422\" xlink:href=\"#DejaVuSans-233\"/>\r\n     <use x=\"126.505859\" xlink:href=\"#DejaVuSans-112\"/>\r\n     <use x=\"189.982422\" xlink:href=\"#DejaVuSans-97\"/>\r\n     <use x=\"251.261719\" xlink:href=\"#DejaVuSans-114\"/>\r\n     <use x=\"292.375\" xlink:href=\"#DejaVuSans-116\"/>\r\n     <use x=\"331.583984\" xlink:href=\"#DejaVuSans-105\"/>\r\n     <use x=\"359.367188\" xlink:href=\"#DejaVuSans-116\"/>\r\n     <use x=\"398.576172\" xlink:href=\"#DejaVuSans-105\"/>\r\n     <use x=\"426.359375\" xlink:href=\"#DejaVuSans-111\"/>\r\n     <use x=\"487.541016\" xlink:href=\"#DejaVuSans-110\"/>\r\n     <use x=\"550.919922\" xlink:href=\"#DejaVuSans-32\"/>\r\n     <use x=\"582.707031\" xlink:href=\"#DejaVuSans-112\"/>\r\n     <use x=\"646.183594\" xlink:href=\"#DejaVuSans-105\"/>\r\n     <use x=\"673.966797\" xlink:href=\"#DejaVuSans-115\"/>\r\n     <use x=\"726.066406\" xlink:href=\"#DejaVuSans-116\"/>\r\n     <use x=\"765.275391\" xlink:href=\"#DejaVuSans-101\"/>\r\n     <use x=\"826.798828\" xlink:href=\"#DejaVuSans-115\"/>\r\n     <use x=\"878.898438\" xlink:href=\"#DejaVuSans-32\"/>\r\n     <use x=\"910.685547\" xlink:href=\"#DejaVuSans-109\"/>\r\n     <use x=\"1008.097656\" xlink:href=\"#DejaVuSans-233\"/>\r\n     <use x=\"1069.621094\" xlink:href=\"#DejaVuSans-108\"/>\r\n     <use x=\"1097.404297\" xlink:href=\"#DejaVuSans-111\"/>\r\n     <use x=\"1158.585938\" xlink:href=\"#DejaVuSans-100\"/>\r\n     <use x=\"1222.0625\" xlink:href=\"#DejaVuSans-105\"/>\r\n     <use x=\"1249.845703\" xlink:href=\"#DejaVuSans-113\"/>\r\n     <use x=\"1313.322266\" xlink:href=\"#DejaVuSans-117\"/>\r\n     <use x=\"1376.701172\" xlink:href=\"#DejaVuSans-101\"/>\r\n     <use x=\"1438.224609\" xlink:href=\"#DejaVuSans-115\"/>\r\n     <use x=\"1490.324219\" xlink:href=\"#DejaVuSans-32\"/>\r\n     <use x=\"1522.111328\" xlink:href=\"#DejaVuSans-111\"/>\r\n     <use x=\"1583.292969\" xlink:href=\"#DejaVuSans-117\"/>\r\n     <use x=\"1646.671875\" xlink:href=\"#DejaVuSans-32\"/>\r\n     <use x=\"1678.458984\" xlink:href=\"#DejaVuSans-110\"/>\r\n     <use x=\"1741.837891\" xlink:href=\"#DejaVuSans-101\"/>\r\n     <use x=\"1803.361328\" xlink:href=\"#DejaVuSans-117\"/>\r\n     <use x=\"1866.740234\" xlink:href=\"#DejaVuSans-116\"/>\r\n     <use x=\"1905.949219\" xlink:href=\"#DejaVuSans-114\"/>\r\n     <use x=\"1944.8125\" xlink:href=\"#DejaVuSans-101\"/>\r\n    </g>\r\n   </g>\r\n  </g>\r\n </g>\r\n <defs>\r\n  <clipPath id=\"pe1605281e7\">\r\n   <rect height=\"434.88\" width=\"558\" x=\"40.603125\" y=\"22.798125\"/>\r\n  </clipPath>\r\n </defs>\r\n</svg>\r\n",
      "image/png": "[encoded data removed]"
     },
     "metadata": {
      "needs_background": "light"
     }
    }
   ],
   "source": [
    "# 11 pistes sont en mélodie, 45 ne sont rien (ni bass, ni mélodie).\n",
    "\n",
    "plt.figure(figsize=(10,8))\n",
    "g = sns.barplot(x=df.value_counts(),y=df.value_counts()).set_title('Répartition pistes mélodiques ou neutre')\n",
    "plt.ylabel(\"Taille de l'échantillon\")\n",
    "ax = plt.subplot()\n",
    "ax = ax.set_xticklabels([\"Mélodique\",\"Neutre\"])"
   ]
  },
  {
   "cell_type": "code",
   "execution_count": 83,
   "metadata": {
    "tags": []
   },
   "outputs": [],
   "source": [
    "has_bleed = [i.replace('yes', '1') for i in has_bleed]\n",
    "has_bleed = [i.replace('no', '0') for i in has_bleed]\n",
    "df = pd.DataFrame(has_bleed) "
   ]
  },
  {
   "cell_type": "code",
   "execution_count": 106,
   "metadata": {},
   "outputs": [
    {
     "output_type": "display_data",
     "data": {
      "text/plain": "<Figure size 720x576 with 1 Axes>",
      "image/svg+xml": "<?xml version=\"1.0\" encoding=\"utf-8\" standalone=\"no\"?>\r\n<!DOCTYPE svg PUBLIC \"-//W3C//DTD SVG 1.1//EN\"\r\n  \"http://www.w3.org/Graphics/SVG/1.1/DTD/svg11.dtd\">\r\n<!-- Created with matplotlib (https://matplotlib.org/) -->\r\n<svg height=\"481.55625pt\" version=\"1.1\" viewBox=\"0 0 605.803125 481.55625\" width=\"605.803125pt\" xmlns=\"http://www.w3.org/2000/svg\" xmlns:xlink=\"http://www.w3.org/1999/xlink\">\r\n <metadata>\r\n  <rdf:RDF xmlns:cc=\"http://creativecommons.org/ns#\" xmlns:dc=\"http://purl.org/dc/elements/1.1/\" xmlns:rdf=\"http://www.w3.org/1999/02/22-rdf-syntax-ns#\">\r\n   <cc:Work>\r\n    <dc:type rdf:resource=\"http://purl.org/dc/dcmitype/StillImage\"/>\r\n    <dc:date>2020-08-19T11:32:09.825178</dc:date>\r\n    <dc:format>image/svg+xml</dc:format>\r\n    <dc:creator>\r\n     <cc:Agent>\r\n      <dc:title>Matplotlib v3.3.1, https://matplotlib.org/</dc:title>\r\n     </cc:Agent>\r\n    </dc:creator>\r\n   </cc:Work>\r\n  </rdf:RDF>\r\n </metadata>\r\n <defs>\r\n  <style type=\"text/css\">*{stroke-linecap:butt;stroke-linejoin:round;}</style>\r\n </defs>\r\n <g id=\"figure_1\">\r\n  <g id=\"patch_1\">\r\n   <path d=\"M 0 481.55625 \r\nL 605.803125 481.55625 \r\nL 605.803125 0 \r\nL 0 0 \r\nz\r\n\" style=\"fill:none;\"/>\r\n  </g>\r\n  <g id=\"axes_1\">\r\n   <g id=\"patch_2\">\r\n    <path d=\"M 40.603125 457.678125 \r\nL 598.603125 457.678125 \r\nL 598.603125 22.798125 \r\nL 40.603125 22.798125 \r\nz\r\n\" style=\"fill:#ffffff;\"/>\r\n   </g>\r\n   <g id=\"patch_3\">\r\n    <path clip-path=\"url(#p49fcf93f8a)\" d=\"M 68.503125 457.678125 \r\nL 291.703125 457.678125 \r\nL 291.703125 405.906696 \r\nL 68.503125 405.906696 \r\nz\r\n\" style=\"fill:#3274a1;\"/>\r\n   </g>\r\n   <g id=\"patch_4\">\r\n    <path clip-path=\"url(#p49fcf93f8a)\" d=\"M 347.503125 457.678125 \r\nL 570.703125 457.678125 \r\nL 570.703125 43.506696 \r\nL 347.503125 43.506696 \r\nz\r\n\" style=\"fill:#e1812c;\"/>\r\n   </g>\r\n   <g id=\"matplotlib.axis_1\">\r\n    <g id=\"xtick_1\">\r\n     <g id=\"line2d_1\">\r\n      <defs>\r\n       <path d=\"M 0 0 \r\nL 0 3.5 \r\n\" id=\"m5f164b0602\" style=\"stroke:#000000;stroke-width:0.8;\"/>\r\n      </defs>\r\n      <g>\r\n       <use style=\"stroke:#000000;stroke-width:0.8;\" x=\"180.103125\" xlink:href=\"#m5f164b0602\" y=\"457.678125\"/>\r\n      </g>\r\n     </g>\r\n     <g id=\"text_1\">\r\n      <!-- Non -->\r\n      <g transform=\"translate(170.134375 472.276562)scale(0.1 -0.1)\">\r\n       <defs>\r\n        <path d=\"M 9.8125 72.90625 \r\nL 23.09375 72.90625 \r\nL 55.421875 11.921875 \r\nL 55.421875 72.90625 \r\nL 64.984375 72.90625 \r\nL 64.984375 0 \r\nL 51.703125 0 \r\nL 19.390625 60.984375 \r\nL 19.390625 0 \r\nL 9.8125 0 \r\nz\r\n\" id=\"DejaVuSans-78\"/>\r\n        <path d=\"M 30.609375 48.390625 \r\nQ 23.390625 48.390625 19.1875 42.75 \r\nQ 14.984375 37.109375 14.984375 27.296875 \r\nQ 14.984375 17.484375 19.15625 11.84375 \r\nQ 23.34375 6.203125 30.609375 6.203125 \r\nQ 37.796875 6.203125 41.984375 11.859375 \r\nQ 46.1875 17.53125 46.1875 27.296875 \r\nQ 46.1875 37.015625 41.984375 42.703125 \r\nQ 37.796875 48.390625 30.609375 48.390625 \r\nz\r\nM 30.609375 56 \r\nQ 42.328125 56 49.015625 48.375 \r\nQ 55.71875 40.765625 55.71875 27.296875 \r\nQ 55.71875 13.875 49.015625 6.21875 \r\nQ 42.328125 -1.421875 30.609375 -1.421875 \r\nQ 18.84375 -1.421875 12.171875 6.21875 \r\nQ 5.515625 13.875 5.515625 27.296875 \r\nQ 5.515625 40.765625 12.171875 48.375 \r\nQ 18.84375 56 30.609375 56 \r\nz\r\n\" id=\"DejaVuSans-111\"/>\r\n        <path d=\"M 54.890625 33.015625 \r\nL 54.890625 0 \r\nL 45.90625 0 \r\nL 45.90625 32.71875 \r\nQ 45.90625 40.484375 42.875 44.328125 \r\nQ 39.84375 48.1875 33.796875 48.1875 \r\nQ 26.515625 48.1875 22.3125 43.546875 \r\nQ 18.109375 38.921875 18.109375 30.90625 \r\nL 18.109375 0 \r\nL 9.078125 0 \r\nL 9.078125 54.6875 \r\nL 18.109375 54.6875 \r\nL 18.109375 46.1875 \r\nQ 21.34375 51.125 25.703125 53.5625 \r\nQ 30.078125 56 35.796875 56 \r\nQ 45.21875 56 50.046875 50.171875 \r\nQ 54.890625 44.34375 54.890625 33.015625 \r\nz\r\n\" id=\"DejaVuSans-110\"/>\r\n       </defs>\r\n       <use xlink:href=\"#DejaVuSans-78\"/>\r\n       <use x=\"74.804688\" xlink:href=\"#DejaVuSans-111\"/>\r\n       <use x=\"135.986328\" xlink:href=\"#DejaVuSans-110\"/>\r\n      </g>\r\n     </g>\r\n    </g>\r\n    <g id=\"xtick_2\">\r\n     <g id=\"line2d_2\">\r\n      <g>\r\n       <use style=\"stroke:#000000;stroke-width:0.8;\" x=\"459.103125\" xlink:href=\"#m5f164b0602\" y=\"457.678125\"/>\r\n      </g>\r\n     </g>\r\n     <g id=\"text_2\">\r\n      <!-- Oui -->\r\n      <g transform=\"translate(450.609375 472.276562)scale(0.1 -0.1)\">\r\n       <defs>\r\n        <path d=\"M 39.40625 66.21875 \r\nQ 28.65625 66.21875 22.328125 58.203125 \r\nQ 16.015625 50.203125 16.015625 36.375 \r\nQ 16.015625 22.609375 22.328125 14.59375 \r\nQ 28.65625 6.59375 39.40625 6.59375 \r\nQ 50.140625 6.59375 56.421875 14.59375 \r\nQ 62.703125 22.609375 62.703125 36.375 \r\nQ 62.703125 50.203125 56.421875 58.203125 \r\nQ 50.140625 66.21875 39.40625 66.21875 \r\nz\r\nM 39.40625 74.21875 \r\nQ 54.734375 74.21875 63.90625 63.9375 \r\nQ 73.09375 53.65625 73.09375 36.375 \r\nQ 73.09375 19.140625 63.90625 8.859375 \r\nQ 54.734375 -1.421875 39.40625 -1.421875 \r\nQ 24.03125 -1.421875 14.8125 8.828125 \r\nQ 5.609375 19.09375 5.609375 36.375 \r\nQ 5.609375 53.65625 14.8125 63.9375 \r\nQ 24.03125 74.21875 39.40625 74.21875 \r\nz\r\n\" id=\"DejaVuSans-79\"/>\r\n        <path d=\"M 8.5 21.578125 \r\nL 8.5 54.6875 \r\nL 17.484375 54.6875 \r\nL 17.484375 21.921875 \r\nQ 17.484375 14.15625 20.5 10.265625 \r\nQ 23.53125 6.390625 29.59375 6.390625 \r\nQ 36.859375 6.390625 41.078125 11.03125 \r\nQ 45.3125 15.671875 45.3125 23.6875 \r\nL 45.3125 54.6875 \r\nL 54.296875 54.6875 \r\nL 54.296875 0 \r\nL 45.3125 0 \r\nL 45.3125 8.40625 \r\nQ 42.046875 3.421875 37.71875 1 \r\nQ 33.40625 -1.421875 27.6875 -1.421875 \r\nQ 18.265625 -1.421875 13.375 4.4375 \r\nQ 8.5 10.296875 8.5 21.578125 \r\nz\r\nM 31.109375 56 \r\nz\r\n\" id=\"DejaVuSans-117\"/>\r\n        <path d=\"M 9.421875 54.6875 \r\nL 18.40625 54.6875 \r\nL 18.40625 0 \r\nL 9.421875 0 \r\nz\r\nM 9.421875 75.984375 \r\nL 18.40625 75.984375 \r\nL 18.40625 64.59375 \r\nL 9.421875 64.59375 \r\nz\r\n\" id=\"DejaVuSans-105\"/>\r\n       </defs>\r\n       <use xlink:href=\"#DejaVuSans-79\"/>\r\n       <use x=\"78.710938\" xlink:href=\"#DejaVuSans-117\"/>\r\n       <use x=\"142.089844\" xlink:href=\"#DejaVuSans-105\"/>\r\n      </g>\r\n     </g>\r\n    </g>\r\n   </g>\r\n   <g id=\"matplotlib.axis_2\">\r\n    <g id=\"ytick_1\">\r\n     <g id=\"line2d_3\">\r\n      <defs>\r\n       <path d=\"M 0 0 \r\nL -3.5 0 \r\n\" id=\"m1208b19247\" style=\"stroke:#000000;stroke-width:0.8;\"/>\r\n      </defs>\r\n      <g>\r\n       <use style=\"stroke:#000000;stroke-width:0.8;\" x=\"40.603125\" xlink:href=\"#m1208b19247\" y=\"457.678125\"/>\r\n      </g>\r\n     </g>\r\n     <g id=\"text_3\">\r\n      <!-- 0 -->\r\n      <g transform=\"translate(27.240625 461.477344)scale(0.1 -0.1)\">\r\n       <defs>\r\n        <path d=\"M 31.78125 66.40625 \r\nQ 24.171875 66.40625 20.328125 58.90625 \r\nQ 16.5 51.421875 16.5 36.375 \r\nQ 16.5 21.390625 20.328125 13.890625 \r\nQ 24.171875 6.390625 31.78125 6.390625 \r\nQ 39.453125 6.390625 43.28125 13.890625 \r\nQ 47.125 21.390625 47.125 36.375 \r\nQ 47.125 51.421875 43.28125 58.90625 \r\nQ 39.453125 66.40625 31.78125 66.40625 \r\nz\r\nM 31.78125 74.21875 \r\nQ 44.046875 74.21875 50.515625 64.515625 \r\nQ 56.984375 54.828125 56.984375 36.375 \r\nQ 56.984375 17.96875 50.515625 8.265625 \r\nQ 44.046875 -1.421875 31.78125 -1.421875 \r\nQ 19.53125 -1.421875 13.0625 8.265625 \r\nQ 6.59375 17.96875 6.59375 36.375 \r\nQ 6.59375 54.828125 13.0625 64.515625 \r\nQ 19.53125 74.21875 31.78125 74.21875 \r\nz\r\n\" id=\"DejaVuSans-48\"/>\r\n       </defs>\r\n       <use xlink:href=\"#DejaVuSans-48\"/>\r\n      </g>\r\n     </g>\r\n    </g>\r\n    <g id=\"ytick_2\">\r\n     <g id=\"line2d_4\">\r\n      <g>\r\n       <use style=\"stroke:#000000;stroke-width:0.8;\" x=\"40.603125\" xlink:href=\"#m1208b19247\" y=\"392.963839\"/>\r\n      </g>\r\n     </g>\r\n     <g id=\"text_4\">\r\n      <!-- 5 -->\r\n      <g transform=\"translate(27.240625 396.763058)scale(0.1 -0.1)\">\r\n       <defs>\r\n        <path d=\"M 10.796875 72.90625 \r\nL 49.515625 72.90625 \r\nL 49.515625 64.59375 \r\nL 19.828125 64.59375 \r\nL 19.828125 46.734375 \r\nQ 21.96875 47.46875 24.109375 47.828125 \r\nQ 26.265625 48.1875 28.421875 48.1875 \r\nQ 40.625 48.1875 47.75 41.5 \r\nQ 54.890625 34.8125 54.890625 23.390625 \r\nQ 54.890625 11.625 47.5625 5.09375 \r\nQ 40.234375 -1.421875 26.90625 -1.421875 \r\nQ 22.3125 -1.421875 17.546875 -0.640625 \r\nQ 12.796875 0.140625 7.71875 1.703125 \r\nL 7.71875 11.625 \r\nQ 12.109375 9.234375 16.796875 8.0625 \r\nQ 21.484375 6.890625 26.703125 6.890625 \r\nQ 35.15625 6.890625 40.078125 11.328125 \r\nQ 45.015625 15.765625 45.015625 23.390625 \r\nQ 45.015625 31 40.078125 35.4375 \r\nQ 35.15625 39.890625 26.703125 39.890625 \r\nQ 22.75 39.890625 18.8125 39.015625 \r\nQ 14.890625 38.140625 10.796875 36.28125 \r\nz\r\n\" id=\"DejaVuSans-53\"/>\r\n       </defs>\r\n       <use xlink:href=\"#DejaVuSans-53\"/>\r\n      </g>\r\n     </g>\r\n    </g>\r\n    <g id=\"ytick_3\">\r\n     <g id=\"line2d_5\">\r\n      <g>\r\n       <use style=\"stroke:#000000;stroke-width:0.8;\" x=\"40.603125\" xlink:href=\"#m1208b19247\" y=\"328.249554\"/>\r\n      </g>\r\n     </g>\r\n     <g id=\"text_5\">\r\n      <!-- 10 -->\r\n      <g transform=\"translate(20.878125 332.048772)scale(0.1 -0.1)\">\r\n       <defs>\r\n        <path d=\"M 12.40625 8.296875 \r\nL 28.515625 8.296875 \r\nL 28.515625 63.921875 \r\nL 10.984375 60.40625 \r\nL 10.984375 69.390625 \r\nL 28.421875 72.90625 \r\nL 38.28125 72.90625 \r\nL 38.28125 8.296875 \r\nL 54.390625 8.296875 \r\nL 54.390625 0 \r\nL 12.40625 0 \r\nz\r\n\" id=\"DejaVuSans-49\"/>\r\n       </defs>\r\n       <use xlink:href=\"#DejaVuSans-49\"/>\r\n       <use x=\"63.623047\" xlink:href=\"#DejaVuSans-48\"/>\r\n      </g>\r\n     </g>\r\n    </g>\r\n    <g id=\"ytick_4\">\r\n     <g id=\"line2d_6\">\r\n      <g>\r\n       <use style=\"stroke:#000000;stroke-width:0.8;\" x=\"40.603125\" xlink:href=\"#m1208b19247\" y=\"263.535268\"/>\r\n      </g>\r\n     </g>\r\n     <g id=\"text_6\">\r\n      <!-- 15 -->\r\n      <g transform=\"translate(20.878125 267.334487)scale(0.1 -0.1)\">\r\n       <use xlink:href=\"#DejaVuSans-49\"/>\r\n       <use x=\"63.623047\" xlink:href=\"#DejaVuSans-53\"/>\r\n      </g>\r\n     </g>\r\n    </g>\r\n    <g id=\"ytick_5\">\r\n     <g id=\"line2d_7\">\r\n      <g>\r\n       <use style=\"stroke:#000000;stroke-width:0.8;\" x=\"40.603125\" xlink:href=\"#m1208b19247\" y=\"198.820982\"/>\r\n      </g>\r\n     </g>\r\n     <g id=\"text_7\">\r\n      <!-- 20 -->\r\n      <g transform=\"translate(20.878125 202.620201)scale(0.1 -0.1)\">\r\n       <defs>\r\n        <path d=\"M 19.1875 8.296875 \r\nL 53.609375 8.296875 \r\nL 53.609375 0 \r\nL 7.328125 0 \r\nL 7.328125 8.296875 \r\nQ 12.9375 14.109375 22.625 23.890625 \r\nQ 32.328125 33.6875 34.8125 36.53125 \r\nQ 39.546875 41.84375 41.421875 45.53125 \r\nQ 43.3125 49.21875 43.3125 52.78125 \r\nQ 43.3125 58.59375 39.234375 62.25 \r\nQ 35.15625 65.921875 28.609375 65.921875 \r\nQ 23.96875 65.921875 18.8125 64.3125 \r\nQ 13.671875 62.703125 7.8125 59.421875 \r\nL 7.8125 69.390625 \r\nQ 13.765625 71.78125 18.9375 73 \r\nQ 24.125 74.21875 28.421875 74.21875 \r\nQ 39.75 74.21875 46.484375 68.546875 \r\nQ 53.21875 62.890625 53.21875 53.421875 \r\nQ 53.21875 48.921875 51.53125 44.890625 \r\nQ 49.859375 40.875 45.40625 35.40625 \r\nQ 44.1875 33.984375 37.640625 27.21875 \r\nQ 31.109375 20.453125 19.1875 8.296875 \r\nz\r\n\" id=\"DejaVuSans-50\"/>\r\n       </defs>\r\n       <use xlink:href=\"#DejaVuSans-50\"/>\r\n       <use x=\"63.623047\" xlink:href=\"#DejaVuSans-48\"/>\r\n      </g>\r\n     </g>\r\n    </g>\r\n    <g id=\"ytick_6\">\r\n     <g id=\"line2d_8\">\r\n      <g>\r\n       <use style=\"stroke:#000000;stroke-width:0.8;\" x=\"40.603125\" xlink:href=\"#m1208b19247\" y=\"134.106696\"/>\r\n      </g>\r\n     </g>\r\n     <g id=\"text_8\">\r\n      <!-- 25 -->\r\n      <g transform=\"translate(20.878125 137.905915)scale(0.1 -0.1)\">\r\n       <use xlink:href=\"#DejaVuSans-50\"/>\r\n       <use x=\"63.623047\" xlink:href=\"#DejaVuSans-53\"/>\r\n      </g>\r\n     </g>\r\n    </g>\r\n    <g id=\"ytick_7\">\r\n     <g id=\"line2d_9\">\r\n      <g>\r\n       <use style=\"stroke:#000000;stroke-width:0.8;\" x=\"40.603125\" xlink:href=\"#m1208b19247\" y=\"69.392411\"/>\r\n      </g>\r\n     </g>\r\n     <g id=\"text_9\">\r\n      <!-- 30 -->\r\n      <g transform=\"translate(20.878125 73.191629)scale(0.1 -0.1)\">\r\n       <defs>\r\n        <path d=\"M 40.578125 39.3125 \r\nQ 47.65625 37.796875 51.625 33 \r\nQ 55.609375 28.21875 55.609375 21.1875 \r\nQ 55.609375 10.40625 48.1875 4.484375 \r\nQ 40.765625 -1.421875 27.09375 -1.421875 \r\nQ 22.515625 -1.421875 17.65625 -0.515625 \r\nQ 12.796875 0.390625 7.625 2.203125 \r\nL 7.625 11.71875 \r\nQ 11.71875 9.328125 16.59375 8.109375 \r\nQ 21.484375 6.890625 26.8125 6.890625 \r\nQ 36.078125 6.890625 40.9375 10.546875 \r\nQ 45.796875 14.203125 45.796875 21.1875 \r\nQ 45.796875 27.640625 41.28125 31.265625 \r\nQ 36.765625 34.90625 28.71875 34.90625 \r\nL 20.21875 34.90625 \r\nL 20.21875 43.015625 \r\nL 29.109375 43.015625 \r\nQ 36.375 43.015625 40.234375 45.921875 \r\nQ 44.09375 48.828125 44.09375 54.296875 \r\nQ 44.09375 59.90625 40.109375 62.90625 \r\nQ 36.140625 65.921875 28.71875 65.921875 \r\nQ 24.65625 65.921875 20.015625 65.03125 \r\nQ 15.375 64.15625 9.8125 62.3125 \r\nL 9.8125 71.09375 \r\nQ 15.4375 72.65625 20.34375 73.4375 \r\nQ 25.25 74.21875 29.59375 74.21875 \r\nQ 40.828125 74.21875 47.359375 69.109375 \r\nQ 53.90625 64.015625 53.90625 55.328125 \r\nQ 53.90625 49.265625 50.4375 45.09375 \r\nQ 46.96875 40.921875 40.578125 39.3125 \r\nz\r\n\" id=\"DejaVuSans-51\"/>\r\n       </defs>\r\n       <use xlink:href=\"#DejaVuSans-51\"/>\r\n       <use x=\"63.623047\" xlink:href=\"#DejaVuSans-48\"/>\r\n      </g>\r\n     </g>\r\n    </g>\r\n    <g id=\"text_10\">\r\n     <!-- Taille de l'échantillon -->\r\n     <g transform=\"translate(14.798438 292.549844)rotate(-90)scale(0.1 -0.1)\">\r\n      <defs>\r\n       <path d=\"M -0.296875 72.90625 \r\nL 61.375 72.90625 \r\nL 61.375 64.59375 \r\nL 35.5 64.59375 \r\nL 35.5 0 \r\nL 25.59375 0 \r\nL 25.59375 64.59375 \r\nL -0.296875 64.59375 \r\nz\r\n\" id=\"DejaVuSans-84\"/>\r\n       <path d=\"M 34.28125 27.484375 \r\nQ 23.390625 27.484375 19.1875 25 \r\nQ 14.984375 22.515625 14.984375 16.5 \r\nQ 14.984375 11.71875 18.140625 8.90625 \r\nQ 21.296875 6.109375 26.703125 6.109375 \r\nQ 34.1875 6.109375 38.703125 11.40625 \r\nQ 43.21875 16.703125 43.21875 25.484375 \r\nL 43.21875 27.484375 \r\nz\r\nM 52.203125 31.203125 \r\nL 52.203125 0 \r\nL 43.21875 0 \r\nL 43.21875 8.296875 \r\nQ 40.140625 3.328125 35.546875 0.953125 \r\nQ 30.953125 -1.421875 24.3125 -1.421875 \r\nQ 15.921875 -1.421875 10.953125 3.296875 \r\nQ 6 8.015625 6 15.921875 \r\nQ 6 25.140625 12.171875 29.828125 \r\nQ 18.359375 34.515625 30.609375 34.515625 \r\nL 43.21875 34.515625 \r\nL 43.21875 35.40625 \r\nQ 43.21875 41.609375 39.140625 45 \r\nQ 35.0625 48.390625 27.6875 48.390625 \r\nQ 23 48.390625 18.546875 47.265625 \r\nQ 14.109375 46.140625 10.015625 43.890625 \r\nL 10.015625 52.203125 \r\nQ 14.9375 54.109375 19.578125 55.046875 \r\nQ 24.21875 56 28.609375 56 \r\nQ 40.484375 56 46.34375 49.84375 \r\nQ 52.203125 43.703125 52.203125 31.203125 \r\nz\r\n\" id=\"DejaVuSans-97\"/>\r\n       <path d=\"M 9.421875 75.984375 \r\nL 18.40625 75.984375 \r\nL 18.40625 0 \r\nL 9.421875 0 \r\nz\r\n\" id=\"DejaVuSans-108\"/>\r\n       <path d=\"M 56.203125 29.59375 \r\nL 56.203125 25.203125 \r\nL 14.890625 25.203125 \r\nQ 15.484375 15.921875 20.484375 11.0625 \r\nQ 25.484375 6.203125 34.421875 6.203125 \r\nQ 39.59375 6.203125 44.453125 7.46875 \r\nQ 49.3125 8.734375 54.109375 11.28125 \r\nL 54.109375 2.78125 \r\nQ 49.265625 0.734375 44.1875 -0.34375 \r\nQ 39.109375 -1.421875 33.890625 -1.421875 \r\nQ 20.796875 -1.421875 13.15625 6.1875 \r\nQ 5.515625 13.8125 5.515625 26.8125 \r\nQ 5.515625 40.234375 12.765625 48.109375 \r\nQ 20.015625 56 32.328125 56 \r\nQ 43.359375 56 49.78125 48.890625 \r\nQ 56.203125 41.796875 56.203125 29.59375 \r\nz\r\nM 47.21875 32.234375 \r\nQ 47.125 39.59375 43.09375 43.984375 \r\nQ 39.0625 48.390625 32.421875 48.390625 \r\nQ 24.90625 48.390625 20.390625 44.140625 \r\nQ 15.875 39.890625 15.1875 32.171875 \r\nz\r\n\" id=\"DejaVuSans-101\"/>\r\n       <path id=\"DejaVuSans-32\"/>\r\n       <path d=\"M 45.40625 46.390625 \r\nL 45.40625 75.984375 \r\nL 54.390625 75.984375 \r\nL 54.390625 0 \r\nL 45.40625 0 \r\nL 45.40625 8.203125 \r\nQ 42.578125 3.328125 38.25 0.953125 \r\nQ 33.9375 -1.421875 27.875 -1.421875 \r\nQ 17.96875 -1.421875 11.734375 6.484375 \r\nQ 5.515625 14.40625 5.515625 27.296875 \r\nQ 5.515625 40.1875 11.734375 48.09375 \r\nQ 17.96875 56 27.875 56 \r\nQ 33.9375 56 38.25 53.625 \r\nQ 42.578125 51.265625 45.40625 46.390625 \r\nz\r\nM 14.796875 27.296875 \r\nQ 14.796875 17.390625 18.875 11.75 \r\nQ 22.953125 6.109375 30.078125 6.109375 \r\nQ 37.203125 6.109375 41.296875 11.75 \r\nQ 45.40625 17.390625 45.40625 27.296875 \r\nQ 45.40625 37.203125 41.296875 42.84375 \r\nQ 37.203125 48.484375 30.078125 48.484375 \r\nQ 22.953125 48.484375 18.875 42.84375 \r\nQ 14.796875 37.203125 14.796875 27.296875 \r\nz\r\n\" id=\"DejaVuSans-100\"/>\r\n       <path d=\"M 17.921875 72.90625 \r\nL 17.921875 45.796875 \r\nL 9.625 45.796875 \r\nL 9.625 72.90625 \r\nz\r\n\" id=\"DejaVuSans-39\"/>\r\n       <path d=\"M 56.203125 29.59375 \r\nL 56.203125 25.203125 \r\nL 14.890625 25.203125 \r\nQ 15.484375 15.921875 20.484375 11.0625 \r\nQ 25.484375 6.203125 34.421875 6.203125 \r\nQ 39.59375 6.203125 44.453125 7.46875 \r\nQ 49.3125 8.734375 54.109375 11.28125 \r\nL 54.109375 2.78125 \r\nQ 49.265625 0.734375 44.1875 -0.34375 \r\nQ 39.109375 -1.421875 33.890625 -1.421875 \r\nQ 20.796875 -1.421875 13.15625 6.1875 \r\nQ 5.515625 13.8125 5.515625 26.8125 \r\nQ 5.515625 40.234375 12.765625 48.109375 \r\nQ 20.015625 56 32.328125 56 \r\nQ 43.359375 56 49.78125 48.890625 \r\nQ 56.203125 41.796875 56.203125 29.59375 \r\nz\r\nM 47.21875 32.234375 \r\nQ 47.125 39.59375 43.09375 43.984375 \r\nQ 39.0625 48.390625 32.421875 48.390625 \r\nQ 24.90625 48.390625 20.390625 44.140625 \r\nQ 15.875 39.890625 15.1875 32.171875 \r\nz\r\nM 38.53125 79.984375 \r\nL 48.25 79.984375 \r\nL 32.34375 61.625 \r\nL 24.859375 61.625 \r\nz\r\n\" id=\"DejaVuSans-233\"/>\r\n       <path d=\"M 48.78125 52.59375 \r\nL 48.78125 44.1875 \r\nQ 44.96875 46.296875 41.140625 47.34375 \r\nQ 37.3125 48.390625 33.40625 48.390625 \r\nQ 24.65625 48.390625 19.8125 42.84375 \r\nQ 14.984375 37.3125 14.984375 27.296875 \r\nQ 14.984375 17.28125 19.8125 11.734375 \r\nQ 24.65625 6.203125 33.40625 6.203125 \r\nQ 37.3125 6.203125 41.140625 7.25 \r\nQ 44.96875 8.296875 48.78125 10.40625 \r\nL 48.78125 2.09375 \r\nQ 45.015625 0.34375 40.984375 -0.53125 \r\nQ 36.96875 -1.421875 32.421875 -1.421875 \r\nQ 20.0625 -1.421875 12.78125 6.34375 \r\nQ 5.515625 14.109375 5.515625 27.296875 \r\nQ 5.515625 40.671875 12.859375 48.328125 \r\nQ 20.21875 56 33.015625 56 \r\nQ 37.15625 56 41.109375 55.140625 \r\nQ 45.0625 54.296875 48.78125 52.59375 \r\nz\r\n\" id=\"DejaVuSans-99\"/>\r\n       <path d=\"M 54.890625 33.015625 \r\nL 54.890625 0 \r\nL 45.90625 0 \r\nL 45.90625 32.71875 \r\nQ 45.90625 40.484375 42.875 44.328125 \r\nQ 39.84375 48.1875 33.796875 48.1875 \r\nQ 26.515625 48.1875 22.3125 43.546875 \r\nQ 18.109375 38.921875 18.109375 30.90625 \r\nL 18.109375 0 \r\nL 9.078125 0 \r\nL 9.078125 75.984375 \r\nL 18.109375 75.984375 \r\nL 18.109375 46.1875 \r\nQ 21.34375 51.125 25.703125 53.5625 \r\nQ 30.078125 56 35.796875 56 \r\nQ 45.21875 56 50.046875 50.171875 \r\nQ 54.890625 44.34375 54.890625 33.015625 \r\nz\r\n\" id=\"DejaVuSans-104\"/>\r\n       <path d=\"M 18.3125 70.21875 \r\nL 18.3125 54.6875 \r\nL 36.8125 54.6875 \r\nL 36.8125 47.703125 \r\nL 18.3125 47.703125 \r\nL 18.3125 18.015625 \r\nQ 18.3125 11.328125 20.140625 9.421875 \r\nQ 21.96875 7.515625 27.59375 7.515625 \r\nL 36.8125 7.515625 \r\nL 36.8125 0 \r\nL 27.59375 0 \r\nQ 17.1875 0 13.234375 3.875 \r\nQ 9.28125 7.765625 9.28125 18.015625 \r\nL 9.28125 47.703125 \r\nL 2.6875 47.703125 \r\nL 2.6875 54.6875 \r\nL 9.28125 54.6875 \r\nL 9.28125 70.21875 \r\nz\r\n\" id=\"DejaVuSans-116\"/>\r\n      </defs>\r\n      <use xlink:href=\"#DejaVuSans-84\"/>\r\n      <use x=\"44.583984\" xlink:href=\"#DejaVuSans-97\"/>\r\n      <use x=\"105.863281\" xlink:href=\"#DejaVuSans-105\"/>\r\n      <use x=\"133.646484\" xlink:href=\"#DejaVuSans-108\"/>\r\n      <use x=\"161.429688\" xlink:href=\"#DejaVuSans-108\"/>\r\n      <use x=\"189.212891\" xlink:href=\"#DejaVuSans-101\"/>\r\n      <use x=\"250.736328\" xlink:href=\"#DejaVuSans-32\"/>\r\n      <use x=\"282.523438\" xlink:href=\"#DejaVuSans-100\"/>\r\n      <use x=\"346\" xlink:href=\"#DejaVuSans-101\"/>\r\n      <use x=\"407.523438\" xlink:href=\"#DejaVuSans-32\"/>\r\n      <use x=\"439.310547\" xlink:href=\"#DejaVuSans-108\"/>\r\n      <use x=\"467.09375\" xlink:href=\"#DejaVuSans-39\"/>\r\n      <use x=\"494.583984\" xlink:href=\"#DejaVuSans-233\"/>\r\n      <use x=\"556.107422\" xlink:href=\"#DejaVuSans-99\"/>\r\n      <use x=\"611.087891\" xlink:href=\"#DejaVuSans-104\"/>\r\n      <use x=\"674.466797\" xlink:href=\"#DejaVuSans-97\"/>\r\n      <use x=\"735.746094\" xlink:href=\"#DejaVuSans-110\"/>\r\n      <use x=\"799.125\" xlink:href=\"#DejaVuSans-116\"/>\r\n      <use x=\"838.333984\" xlink:href=\"#DejaVuSans-105\"/>\r\n      <use x=\"866.117188\" xlink:href=\"#DejaVuSans-108\"/>\r\n      <use x=\"893.900391\" xlink:href=\"#DejaVuSans-108\"/>\r\n      <use x=\"921.683594\" xlink:href=\"#DejaVuSans-111\"/>\r\n      <use x=\"982.865234\" xlink:href=\"#DejaVuSans-110\"/>\r\n     </g>\r\n    </g>\r\n   </g>\r\n   <g id=\"line2d_10\">\r\n    <path clip-path=\"url(#p49fcf93f8a)\" d=\"M 0 0 \r\n\" style=\"fill:none;stroke:#424242;stroke-linecap:square;stroke-width:2.7;\"/>\r\n   </g>\r\n   <g id=\"line2d_11\">\r\n    <path clip-path=\"url(#p49fcf93f8a)\" d=\"M 0 0 \r\n\" style=\"fill:none;stroke:#424242;stroke-linecap:square;stroke-width:2.7;\"/>\r\n   </g>\r\n   <g id=\"patch_5\">\r\n    <path d=\"M 40.603125 457.678125 \r\nL 40.603125 22.798125 \r\n\" style=\"fill:none;stroke:#000000;stroke-linecap:square;stroke-linejoin:miter;stroke-width:0.8;\"/>\r\n   </g>\r\n   <g id=\"patch_6\">\r\n    <path d=\"M 598.603125 457.678125 \r\nL 598.603125 22.798125 \r\n\" style=\"fill:none;stroke:#000000;stroke-linecap:square;stroke-linejoin:miter;stroke-width:0.8;\"/>\r\n   </g>\r\n   <g id=\"patch_7\">\r\n    <path d=\"M 40.603125 457.678125 \r\nL 598.603125 457.678125 \r\n\" style=\"fill:none;stroke:#000000;stroke-linecap:square;stroke-linejoin:miter;stroke-width:0.8;\"/>\r\n   </g>\r\n   <g id=\"patch_8\">\r\n    <path d=\"M 40.603125 22.798125 \r\nL 598.603125 22.798125 \r\n\" style=\"fill:none;stroke:#000000;stroke-linecap:square;stroke-linejoin:miter;stroke-width:0.8;\"/>\r\n   </g>\r\n   <g id=\"text_11\">\r\n    <!-- Répartition de MIX 'has bleed' ou pas -->\r\n    <g transform=\"translate(207.891562 16.798125)scale(0.12 -0.12)\">\r\n     <defs>\r\n      <path d=\"M 44.390625 34.1875 \r\nQ 47.5625 33.109375 50.5625 29.59375 \r\nQ 53.5625 26.078125 56.59375 19.921875 \r\nL 66.609375 0 \r\nL 56 0 \r\nL 46.6875 18.703125 \r\nQ 43.0625 26.03125 39.671875 28.421875 \r\nQ 36.28125 30.8125 30.421875 30.8125 \r\nL 19.671875 30.8125 \r\nL 19.671875 0 \r\nL 9.8125 0 \r\nL 9.8125 72.90625 \r\nL 32.078125 72.90625 \r\nQ 44.578125 72.90625 50.734375 67.671875 \r\nQ 56.890625 62.453125 56.890625 51.90625 \r\nQ 56.890625 45.015625 53.6875 40.46875 \r\nQ 50.484375 35.9375 44.390625 34.1875 \r\nz\r\nM 19.671875 64.796875 \r\nL 19.671875 38.921875 \r\nL 32.078125 38.921875 \r\nQ 39.203125 38.921875 42.84375 42.21875 \r\nQ 46.484375 45.515625 46.484375 51.90625 \r\nQ 46.484375 58.296875 42.84375 61.546875 \r\nQ 39.203125 64.796875 32.078125 64.796875 \r\nz\r\n\" id=\"DejaVuSans-82\"/>\r\n      <path d=\"M 18.109375 8.203125 \r\nL 18.109375 -20.796875 \r\nL 9.078125 -20.796875 \r\nL 9.078125 54.6875 \r\nL 18.109375 54.6875 \r\nL 18.109375 46.390625 \r\nQ 20.953125 51.265625 25.265625 53.625 \r\nQ 29.59375 56 35.59375 56 \r\nQ 45.5625 56 51.78125 48.09375 \r\nQ 58.015625 40.1875 58.015625 27.296875 \r\nQ 58.015625 14.40625 51.78125 6.484375 \r\nQ 45.5625 -1.421875 35.59375 -1.421875 \r\nQ 29.59375 -1.421875 25.265625 0.953125 \r\nQ 20.953125 3.328125 18.109375 8.203125 \r\nz\r\nM 48.6875 27.296875 \r\nQ 48.6875 37.203125 44.609375 42.84375 \r\nQ 40.53125 48.484375 33.40625 48.484375 \r\nQ 26.265625 48.484375 22.1875 42.84375 \r\nQ 18.109375 37.203125 18.109375 27.296875 \r\nQ 18.109375 17.390625 22.1875 11.75 \r\nQ 26.265625 6.109375 33.40625 6.109375 \r\nQ 40.53125 6.109375 44.609375 11.75 \r\nQ 48.6875 17.390625 48.6875 27.296875 \r\nz\r\n\" id=\"DejaVuSans-112\"/>\r\n      <path d=\"M 41.109375 46.296875 \r\nQ 39.59375 47.171875 37.8125 47.578125 \r\nQ 36.03125 48 33.890625 48 \r\nQ 26.265625 48 22.1875 43.046875 \r\nQ 18.109375 38.09375 18.109375 28.8125 \r\nL 18.109375 0 \r\nL 9.078125 0 \r\nL 9.078125 54.6875 \r\nL 18.109375 54.6875 \r\nL 18.109375 46.1875 \r\nQ 20.953125 51.171875 25.484375 53.578125 \r\nQ 30.03125 56 36.53125 56 \r\nQ 37.453125 56 38.578125 55.875 \r\nQ 39.703125 55.765625 41.0625 55.515625 \r\nz\r\n\" id=\"DejaVuSans-114\"/>\r\n      <path d=\"M 9.8125 72.90625 \r\nL 24.515625 72.90625 \r\nL 43.109375 23.296875 \r\nL 61.8125 72.90625 \r\nL 76.515625 72.90625 \r\nL 76.515625 0 \r\nL 66.890625 0 \r\nL 66.890625 64.015625 \r\nL 48.09375 14.015625 \r\nL 38.1875 14.015625 \r\nL 19.390625 64.015625 \r\nL 19.390625 0 \r\nL 9.8125 0 \r\nz\r\n\" id=\"DejaVuSans-77\"/>\r\n      <path d=\"M 9.8125 72.90625 \r\nL 19.671875 72.90625 \r\nL 19.671875 0 \r\nL 9.8125 0 \r\nz\r\n\" id=\"DejaVuSans-73\"/>\r\n      <path d=\"M 6.296875 72.90625 \r\nL 16.890625 72.90625 \r\nL 35.015625 45.796875 \r\nL 53.21875 72.90625 \r\nL 63.8125 72.90625 \r\nL 40.375 37.890625 \r\nL 65.375 0 \r\nL 54.78125 0 \r\nL 34.28125 31 \r\nL 13.625 0 \r\nL 2.984375 0 \r\nL 29 38.921875 \r\nz\r\n\" id=\"DejaVuSans-88\"/>\r\n      <path d=\"M 44.28125 53.078125 \r\nL 44.28125 44.578125 \r\nQ 40.484375 46.53125 36.375 47.5 \r\nQ 32.28125 48.484375 27.875 48.484375 \r\nQ 21.1875 48.484375 17.84375 46.4375 \r\nQ 14.5 44.390625 14.5 40.28125 \r\nQ 14.5 37.15625 16.890625 35.375 \r\nQ 19.28125 33.59375 26.515625 31.984375 \r\nL 29.59375 31.296875 \r\nQ 39.15625 29.25 43.1875 25.515625 \r\nQ 47.21875 21.78125 47.21875 15.09375 \r\nQ 47.21875 7.46875 41.1875 3.015625 \r\nQ 35.15625 -1.421875 24.609375 -1.421875 \r\nQ 20.21875 -1.421875 15.453125 -0.5625 \r\nQ 10.6875 0.296875 5.421875 2 \r\nL 5.421875 11.28125 \r\nQ 10.40625 8.6875 15.234375 7.390625 \r\nQ 20.0625 6.109375 24.8125 6.109375 \r\nQ 31.15625 6.109375 34.5625 8.28125 \r\nQ 37.984375 10.453125 37.984375 14.40625 \r\nQ 37.984375 18.0625 35.515625 20.015625 \r\nQ 33.0625 21.96875 24.703125 23.78125 \r\nL 21.578125 24.515625 \r\nQ 13.234375 26.265625 9.515625 29.90625 \r\nQ 5.8125 33.546875 5.8125 39.890625 \r\nQ 5.8125 47.609375 11.28125 51.796875 \r\nQ 16.75 56 26.8125 56 \r\nQ 31.78125 56 36.171875 55.265625 \r\nQ 40.578125 54.546875 44.28125 53.078125 \r\nz\r\n\" id=\"DejaVuSans-115\"/>\r\n      <path d=\"M 48.6875 27.296875 \r\nQ 48.6875 37.203125 44.609375 42.84375 \r\nQ 40.53125 48.484375 33.40625 48.484375 \r\nQ 26.265625 48.484375 22.1875 42.84375 \r\nQ 18.109375 37.203125 18.109375 27.296875 \r\nQ 18.109375 17.390625 22.1875 11.75 \r\nQ 26.265625 6.109375 33.40625 6.109375 \r\nQ 40.53125 6.109375 44.609375 11.75 \r\nQ 48.6875 17.390625 48.6875 27.296875 \r\nz\r\nM 18.109375 46.390625 \r\nQ 20.953125 51.265625 25.265625 53.625 \r\nQ 29.59375 56 35.59375 56 \r\nQ 45.5625 56 51.78125 48.09375 \r\nQ 58.015625 40.1875 58.015625 27.296875 \r\nQ 58.015625 14.40625 51.78125 6.484375 \r\nQ 45.5625 -1.421875 35.59375 -1.421875 \r\nQ 29.59375 -1.421875 25.265625 0.953125 \r\nQ 20.953125 3.328125 18.109375 8.203125 \r\nL 18.109375 0 \r\nL 9.078125 0 \r\nL 9.078125 75.984375 \r\nL 18.109375 75.984375 \r\nz\r\n\" id=\"DejaVuSans-98\"/>\r\n     </defs>\r\n     <use xlink:href=\"#DejaVuSans-82\"/>\r\n     <use x=\"64.982422\" xlink:href=\"#DejaVuSans-233\"/>\r\n     <use x=\"126.505859\" xlink:href=\"#DejaVuSans-112\"/>\r\n     <use x=\"189.982422\" xlink:href=\"#DejaVuSans-97\"/>\r\n     <use x=\"251.261719\" xlink:href=\"#DejaVuSans-114\"/>\r\n     <use x=\"292.375\" xlink:href=\"#DejaVuSans-116\"/>\r\n     <use x=\"331.583984\" xlink:href=\"#DejaVuSans-105\"/>\r\n     <use x=\"359.367188\" xlink:href=\"#DejaVuSans-116\"/>\r\n     <use x=\"398.576172\" xlink:href=\"#DejaVuSans-105\"/>\r\n     <use x=\"426.359375\" xlink:href=\"#DejaVuSans-111\"/>\r\n     <use x=\"487.541016\" xlink:href=\"#DejaVuSans-110\"/>\r\n     <use x=\"550.919922\" xlink:href=\"#DejaVuSans-32\"/>\r\n     <use x=\"582.707031\" xlink:href=\"#DejaVuSans-100\"/>\r\n     <use x=\"646.183594\" xlink:href=\"#DejaVuSans-101\"/>\r\n     <use x=\"707.707031\" xlink:href=\"#DejaVuSans-32\"/>\r\n     <use x=\"739.494141\" xlink:href=\"#DejaVuSans-77\"/>\r\n     <use x=\"825.773438\" xlink:href=\"#DejaVuSans-73\"/>\r\n     <use x=\"855.265625\" xlink:href=\"#DejaVuSans-88\"/>\r\n     <use x=\"923.771484\" xlink:href=\"#DejaVuSans-32\"/>\r\n     <use x=\"955.558594\" xlink:href=\"#DejaVuSans-39\"/>\r\n     <use x=\"983.048828\" xlink:href=\"#DejaVuSans-104\"/>\r\n     <use x=\"1046.427734\" xlink:href=\"#DejaVuSans-97\"/>\r\n     <use x=\"1107.707031\" xlink:href=\"#DejaVuSans-115\"/>\r\n     <use x=\"1159.806641\" xlink:href=\"#DejaVuSans-32\"/>\r\n     <use x=\"1191.59375\" xlink:href=\"#DejaVuSans-98\"/>\r\n     <use x=\"1255.070312\" xlink:href=\"#DejaVuSans-108\"/>\r\n     <use x=\"1282.853516\" xlink:href=\"#DejaVuSans-101\"/>\r\n     <use x=\"1344.376953\" xlink:href=\"#DejaVuSans-101\"/>\r\n     <use x=\"1405.900391\" xlink:href=\"#DejaVuSans-100\"/>\r\n     <use x=\"1469.376953\" xlink:href=\"#DejaVuSans-39\"/>\r\n     <use x=\"1496.867188\" xlink:href=\"#DejaVuSans-32\"/>\r\n     <use x=\"1528.654297\" xlink:href=\"#DejaVuSans-111\"/>\r\n     <use x=\"1589.835938\" xlink:href=\"#DejaVuSans-117\"/>\r\n     <use x=\"1653.214844\" xlink:href=\"#DejaVuSans-32\"/>\r\n     <use x=\"1685.001953\" xlink:href=\"#DejaVuSans-112\"/>\r\n     <use x=\"1748.478516\" xlink:href=\"#DejaVuSans-97\"/>\r\n     <use x=\"1809.757812\" xlink:href=\"#DejaVuSans-115\"/>\r\n    </g>\r\n   </g>\r\n  </g>\r\n </g>\r\n <defs>\r\n  <clipPath id=\"p49fcf93f8a\">\r\n   <rect height=\"434.88\" width=\"558\" x=\"40.603125\" y=\"22.798125\"/>\r\n  </clipPath>\r\n </defs>\r\n</svg>\r\n",
      "image/png": "[encoded data removed]"
     },
     "metadata": {
      "needs_background": "light"
     }
    }
   ],
   "source": [
    "# 32 MIX qui ne sont pas 'has bleed', 4 MIX le sont\n",
    "\n",
    "plt.figure(figsize=(10,8))\n",
    "g = sns.barplot(x=df.value_counts(),y=df.value_counts()).set_title(\"Répartition de MIX 'has bleed' ou pas\")\n",
    "plt.ylabel(\"Taille de l'échantillon\")\n",
    "ax = plt.subplot()\n",
    "ax = ax.set_xticklabels([\"Non\",\"Oui\"])\n",
    "# save(img_path.joinpath(\"mon_graphe.png\"))"
   ]
  },
  {
   "cell_type": "code",
   "execution_count": 190,
   "metadata": {},
   "outputs": [
    {
     "output_type": "execute_result",
     "data": {
      "text/plain": "(array([-3.1314936e-04, -5.1763438e-04, -1.4932302e-04, ...,\n         4.8623560e-06, -2.5242332e-06,  1.3548863e-06], dtype=float32),\n 22050)"
     },
     "metadata": {},
     "execution_count": 190
    }
   ],
   "source": [
    "librosa.load('D:\\Théo\\MedleyDB\\V1\\AClassicEducation_NightOwl\\AClassicEducation_NightOwl_STEMS\\AClassicEducation_NightOwl_STEM_01.wav')"
   ]
  },
  {
   "cell_type": "code",
   "execution_count": 1,
   "metadata": {
    "tags": []
   },
   "outputs": [
    {
     "output_type": "error",
     "ename": "NameError",
     "evalue": "name 'librosa' is not defined",
     "traceback": [
      "\u001b[1;31m---------------------------------------------------------------------------\u001b[0m",
      "\u001b[1;31mNameError\u001b[0m                                 Traceback (most recent call last)",
      "\u001b[1;32m<ipython-input-1-9a19ddbf7c4b>\u001b[0m in \u001b[0;36m<module>\u001b[1;34m\u001b[0m\n\u001b[1;32m----> 1\u001b[1;33m \u001b[0my\u001b[0m\u001b[1;33m,\u001b[0m \u001b[0msr\u001b[0m \u001b[1;33m=\u001b[0m \u001b[0mlibrosa\u001b[0m\u001b[1;33m.\u001b[0m\u001b[0mload\u001b[0m\u001b[1;33m(\u001b[0m\u001b[1;34m'D:\\Théo\\MedleyDB\\V1\\AClassicEducation_NightOwl\\AClassicEducation_NightOwl_STEMS\\AClassicEducation_NightOwl_STEM_01.wav'\u001b[0m\u001b[1;33m,\u001b[0m \u001b[0mduration\u001b[0m\u001b[1;33m=\u001b[0m\u001b[1;36m15\u001b[0m\u001b[1;33m)\u001b[0m\u001b[1;33m\u001b[0m\u001b[1;33m\u001b[0m\u001b[0m\n\u001b[0m\u001b[0;32m      2\u001b[0m \u001b[0mfig\u001b[0m\u001b[1;33m,\u001b[0m \u001b[0max\u001b[0m \u001b[1;33m=\u001b[0m \u001b[0mplt\u001b[0m\u001b[1;33m.\u001b[0m\u001b[0msubplots\u001b[0m\u001b[1;33m(\u001b[0m\u001b[0mnrows\u001b[0m\u001b[1;33m=\u001b[0m\u001b[1;36m1\u001b[0m\u001b[1;33m,\u001b[0m \u001b[0mncols\u001b[0m\u001b[1;33m=\u001b[0m\u001b[1;36m1\u001b[0m\u001b[1;33m,\u001b[0m \u001b[0msharex\u001b[0m\u001b[1;33m=\u001b[0m\u001b[1;32mTrue\u001b[0m\u001b[1;33m)\u001b[0m\u001b[1;33m\u001b[0m\u001b[1;33m\u001b[0m\u001b[0m\n\u001b[0;32m      3\u001b[0m \u001b[0mD\u001b[0m \u001b[1;33m=\u001b[0m \u001b[0mlibrosa\u001b[0m\u001b[1;33m.\u001b[0m\u001b[0mamplitude_to_db\u001b[0m\u001b[1;33m(\u001b[0m\u001b[0mnp\u001b[0m\u001b[1;33m.\u001b[0m\u001b[0mabs\u001b[0m\u001b[1;33m(\u001b[0m\u001b[0mlibrosa\u001b[0m\u001b[1;33m.\u001b[0m\u001b[0mstft\u001b[0m\u001b[1;33m(\u001b[0m\u001b[0my\u001b[0m\u001b[1;33m)\u001b[0m\u001b[1;33m)\u001b[0m\u001b[1;33m,\u001b[0m \u001b[0mref\u001b[0m\u001b[1;33m=\u001b[0m\u001b[0mnp\u001b[0m\u001b[1;33m.\u001b[0m\u001b[0mmax\u001b[0m\u001b[1;33m)\u001b[0m\u001b[1;33m\u001b[0m\u001b[1;33m\u001b[0m\u001b[0m\n\u001b[0;32m      4\u001b[0m img = librosa.display.specshow(D, y_axis='linear', x_axis='time',\n\u001b[0;32m      5\u001b[0m                                sr=sr, ax=ax)\n",
      "\u001b[1;31mNameError\u001b[0m: name 'librosa' is not defined"
     ]
    }
   ],
   "source": [
    "y, sr = librosa.load('D:\\Théo\\MedleyDB\\V1\\AClassicEducation_NightOwl\\AClassicEducation_NightOwl_STEMS\\AClassicEducation_NightOwl_STEM_01.wav', duration=15)\n",
    "fig, ax = plt.subplots(nrows=1, ncols=1, sharex=True)\n",
    "D = librosa.amplitude_to_db(np.abs(librosa.stft(y)), ref=np.max)\n",
    "img = librosa.display.specshow(D, y_axis='linear', x_axis='time',\n",
    "                               sr=sr, ax=ax)\n",
    "ax.set(title='Linear-frequency power spectrogram')\n",
    "ax.label_outer()\n",
    "plt.show()"
   ]
  },
  {
   "cell_type": "code",
   "execution_count": null,
   "metadata": {},
   "outputs": [],
   "source": []
  },
  {
   "cell_type": "code",
   "execution_count": null,
   "metadata": {},
   "outputs": [],
   "source": [
    "def contains_guitar(f):\n",
    "    f = eval(f)\n",
    "    return \"clean electric guitar\" in [f[c][\"instrument\"] for c in f]"
   ]
  },
  {
   "cell_type": "code",
   "execution_count": null,
   "metadata": {},
   "outputs": [],
   "source": [
    "instru.loc[:, \"guitar\"] = instru.loc[:, \"stems\"]"
   ]
  },
  {
   "cell_type": "code",
   "execution_count": null,
   "metadata": {},
   "outputs": [],
   "source": [
    "instru.loc[:, \"guitar\"] = instru[\"guitar\"].map(contains_guitar)"
   ]
  },
  {
   "cell_type": "code",
   "execution_count": null,
   "metadata": {},
   "outputs": [],
   "source": [
    "instru[instru[\"guitar\"] == 1]"
   ]
  },
  {
   "cell_type": "code",
   "execution_count": null,
   "metadata": {},
   "outputs": [],
   "source": []
  },
  {
   "cell_type": "code",
   "execution_count": null,
   "metadata": {},
   "outputs": [],
   "source": []
  }
 ],
 "metadata": {
  "kernelspec": {
   "display_name": "Python 3.8.5 64-bit",
   "language": "python",
   "name": "python_defaultSpec_1597838533757"
  },
  "language_info": {
   "codemirror_mode": {
    "name": "ipython",
    "version": 3
   },
   "file_extension": ".py",
   "mimetype": "text/x-python",
   "name": "python",
   "nbconvert_exporter": "python",
   "pygments_lexer": "ipython3",
   "version": "3.8.5-final"
  }
 },
 "nbformat": 4,
 "nbformat_minor": 4
}