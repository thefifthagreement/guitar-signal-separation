{
 "metadata": {
  "language_info": {
   "codemirror_mode": {
    "name": "ipython",
    "version": 3
   },
   "file_extension": ".py",
   "mimetype": "text/x-python",
   "name": "python",
   "nbconvert_exporter": "python",
   "pygments_lexer": "ipython3",
   "version": "3.8.5-final"
  },
  "orig_nbformat": 2,
  "kernelspec": {
   "name": "python3",
   "display_name": "Python 3"
  }
 },
 "nbformat": 4,
 "nbformat_minor": 2,
 "cells": [
  {
   "cell_type": "code",
   "execution_count": 2,
   "metadata": {},
   "outputs": [],
   "source": [
    "from os import environ\n",
    "from pathlib import Path\n",
    "import numpy as np\n",
    "import pandas as pd\n",
    "from medleydb.utils import get_instrument_stems, get_instrument_tracks, get_instrument_repartition"
   ]
  },
  {
   "cell_type": "code",
   "execution_count": 3,
   "metadata": {
    "tags": []
   },
   "outputs": [
    {
     "output_type": "stream",
     "name": "stdout",
     "text": "env: MEDLEYDB_PATH=/media/mvitry/7632099B3209620B/Mickaël/Documents/MIR/Medey/MedleyDB/V1+2\nenv: METADATA_PATH=/media/mvitry/7632099B3209620B/github/medleydb-theo\n"
    }
   ],
   "source": [
    "%env MEDLEYDB_PATH=/media/mvitry/7632099B3209620B/Mickaël/Documents/MIR/Medey/MedleyDB/V1+2\n",
    "%env METADATA_PATH=/media/mvitry/7632099B3209620B/github/medleydb-theo"
   ]
  },
  {
   "cell_type": "code",
   "execution_count": 4,
   "metadata": {
    "tags": []
   },
   "outputs": [
    {
     "output_type": "stream",
     "name": "stdout",
     "text": "wd: /home/mvitry/Dev/jedha-final-project/medleydb,\ndata: /home/mvitry/Dev/jedha-final-project/medleydb/data,\nmedleydb data: /media/mvitry/7632099B3209620B/github/medleydb-theo,\nmedley activation: /media/mvitry/7632099B3209620B/github/medleydb-theo/medleydb/data/Annotations/Activation_Confidence/all,\naudio: /media/mvitry/7632099B3209620B/Mickaël/Documents/MIR/Medey/MedleyDB/V1+2,\nimages: /home/mvitry/Dev/jedha-final-project/medleydb/images\n"
    }
   ],
   "source": [
    "wd_path = Path.cwd() # working directory\n",
    "data_path = wd_path.joinpath(\"data\") # data directory containing the metadata.csv\n",
    "img_path = wd_path.joinpath('images') # images from the data visualizations\n",
    "\n",
    "metadata_path = Path(environ['METADATA_PATH']) # medleyDB repo data path\n",
    "activation_path = metadata_path.joinpath(\"medleydb\", \"data\", \"Annotations\", \"Activation_Confidence\", \"all\") # activation path\n",
    "audio_path = Path(environ['MEDLEYDB_PATH']) # medleyDB audio files path\n",
    "\n",
    "print(\"wd: {},\\ndata: {},\\nmedleydb data: {},\\nmedley activation: {},\\naudio: {},\\nimages: {}\".format(\n",
    "    wd_path, data_path, metadata_path, activation_path, audio_path, img_path)\n",
    "    )"
   ]
  },
  {
   "cell_type": "code",
   "execution_count": 5,
   "metadata": {},
   "outputs": [],
   "source": [
    "metadata_df = pd.read_csv(data_path.joinpath(\"metadata.csv\"), index_col=0)"
   ]
  },
  {
   "cell_type": "code",
   "execution_count": 6,
   "metadata": {
    "tags": []
   },
   "outputs": [
    {
     "output_type": "stream",
     "name": "stdout",
     "text": "DahkaBand_SoldierMan activation file missing.\nSasquatchConnection_BoomBoxing activation file missing.\nSasquatchConnection_HolyClamsBatman activation file missing.\nSasquatchConnection_Struttin activation file missing.\nSasquatchConnection_ThanksALatte activation file missing.\nSweat_AlmostAlways activation file missing.\nSweat_Anecdoche activation file missing.\nSweat_Elegy activation file missing.\nSweat_Mesozoic activation file missing.\nSweat_Tact activation file missing.\nKarachacha_Volamos activation file missing.\nLewisAndClarke_TheSilverSea activation file missing.\nDeclareAString_MendelssohnPianoTrio1Movement1 activation file missing.\nDeclareAString_MendelssohnPianoTrio1Movement2 activation file missing.\nKatzn_CharlieKnox activation file missing.\nMatthewEntwistle_ReturnToVenezia activation file missing.\nPoliceHearingDepartment_Brahms activation file missing.\nPoliceHearingDepartment_SchumannMovement1 activation file missing.\nPoliceHearingDepartment_SchumannMovement2 activation file missing.\nQuantumChromos_Circuits activation file missing.\nRodrigoBonelli_BalladForLaura activation file missing.\nSasquatchConnection_BoomBoxing activation file missing.\nSasquatchConnection_HolyClamsBatman activation file missing.\nSasquatchConnection_Illuminati activation file missing.\nSasquatchConnection_Struttin activation file missing.\nSasquatchConnection_ThanksALatte activation file missing.\nSongYiJeon_TwoMoons activation file missing.\nSweat_AlmostAlways activation file missing.\nSweat_Anecdoche activation file missing.\nSweat_Elegy activation file missing.\nSweat_Mesozoic activation file missing.\nSweat_Tact activation file missing.\nTheFranckDuo_FranckViolinSonataInAMajorMovement2 activation file missing.\nVerdi_IlTrovatore activation file missing.\nDahkaBand_SoldierMan activation file missing.\nHopsNVinyl_ChickenFriedSteak activation file missing.\nHopsNVinyl_HoneyBrown activation file missing.\nHopsNVinyl_ReignCheck activation file missing.\nHopsNVinyl_WidowsWalk activation file missing.\nKarachacha_Volamos activation file missing.\nLewisAndClarke_TheSilverSea activation file missing.\nRodrigoBonelli_BalladForLaura activation file missing.\nSasquatchConnection_BoomBoxing activation file missing.\nSasquatchConnection_HolyClamsBatman activation file missing.\nSasquatchConnection_Illuminati activation file missing.\nSasquatchConnection_Struttin activation file missing.\nSasquatchConnection_ThanksALatte activation file missing.\nSweat_AlmostAlways activation file missing.\nSweat_Anecdoche activation file missing.\nSweat_Elegy activation file missing.\nSweat_Mesozoic activation file missing.\nSweat_Sn1572 activation file missing.\nSweat_Tact activation file missing.\n"
    }
   ],
   "source": [
    "electric_track_activations = get_instrument_repartition(metadata_df[\"stems\"], activation_path, \"clean electric guitar\")\n",
    "acoustic_track_activations = get_instrument_repartition(metadata_df[\"stems\"], activation_path, \"acoustic guitar\")\n",
    "piano_track_activations = get_instrument_repartition(metadata_df[\"stems\"], activation_path, \"piano\")\n",
    "drums_track_activations = get_instrument_repartition(metadata_df[\"stems\"], activation_path, \"drum set\")"
   ]
  },
  {
   "cell_type": "code",
   "execution_count": 7,
   "metadata": {
    "tags": []
   },
   "outputs": [
    {
     "output_type": "stream",
     "name": "stdout",
     "text": "electric clean guitar mean presence: 72.38%\nacoustic guitar mean presence: 79.38%\npiano mean presence: 81.11%\ndrums mean presence: 86.47%\n"
    }
   ],
   "source": [
    "print(f\"electric clean guitar mean presence: {np.mean(list(electric_track_activations.values())):.2%}\")\n",
    "print(f\"acoustic guitar mean presence: {np.mean(list(acoustic_track_activations.values())):.2%}\")\n",
    "print(f\"piano mean presence: {np.mean(list(piano_track_activations.values())):.2%}\")\n",
    "print(f\"drums mean presence: {np.mean(list(drums_track_activations.values())):.2%}\")"
   ]
  },
  {
   "cell_type": "code",
   "execution_count": 8,
   "metadata": {},
   "outputs": [
    {
     "output_type": "execute_result",
     "data": {
      "text/plain": "{'AimeeNorwich_Child': 0.7969094922737306,\n 'AlexanderRoss_GoodbyeBolero': 0.9473334072513583,\n 'AlexanderRoss_VelvetCurtain': 0.9784276559256251,\n 'AmarLal_SpringDay1': 0.9504332755632582,\n 'BarefootSisters_RedJetta': 1.0,\n 'CassandraJenkins_PerfectDay': 0.9656176096052392,\n 'DeadMilkmen_PrisonersCinema': 0.25344295991778004,\n 'FacesOnFilm_WaitingForGa': 0.8309605334294468,\n 'FamilyBand_Again': 0.09619377162629758,\n 'FilthyBird_IdLikeToKnow': 0.9878186329799233,\n 'FruitCathedral_KeepMeRunnin': 0.8523067233506535,\n 'HezekiahJones_BorrowedHeart': 1.0,\n 'HopAlong_SisterCities': 0.9208585941340325,\n 'JoelHelander_ExcessiveResistancetoChange': 0.34521158129175944,\n 'KarimDouaidy_Hopscotch': 0.0947717580161112,\n 'KarimDouaidy_Yatora': 0.9068988613529806,\n 'LittleTybee_TheAlchemist': 0.9757897163938206,\n 'LizNelson_Coldwar': 0.9939907129199672,\n 'LizNelson_Rainfall': 0.9973920130399349,\n 'Meaxic_YouListen': 0.41365732928338395,\n 'MusicDelta_Beatles': 0.9668789808917198,\n 'MusicDelta_Country1': 0.965287049399199,\n 'MutualBenefit_NotForNothing': 0.9956241956241956,\n 'PeterMatthewBauer_YouAlwaysLookForSomeoneLost': 0.9679196767478878,\n 'Phoenix_BrokenPledgeChicagoReel': 0.9987133299022131,\n 'Phoenix_ColliersDaughter': 0.9936678032148076,\n 'Phoenix_ElzicsFarewell': 0.9657915672235481,\n 'Phoenix_LarkOnTheStrandDrummondCastle': 1.0,\n 'Phoenix_ScotchMorris': 0.9892529488859764,\n 'Phoenix_SeanCaughlinsTheScartaglen': 0.9981056121240824,\n 'SweetLights_YouLetMeDown': 0.5087074991114797,\n 'TheKitchenettes_Alive': 0.2639200489496227,\n 'TheSoSoGlos_Emergency': 0.2718932443703086}"
     },
     "metadata": {},
     "execution_count": 8
    }
   ],
   "source": [
    "acoustic_track_activations"
   ]
  },
  {
   "cell_type": "code",
   "execution_count": null,
   "metadata": {},
   "outputs": [],
   "source": []
  }
 ]
}