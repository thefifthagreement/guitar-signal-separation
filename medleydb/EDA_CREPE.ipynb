{
 "metadata": {
  "language_info": {
   "codemirror_mode": {
    "name": "ipython",
    "version": 3
   },
   "file_extension": ".py",
   "mimetype": "text/x-python",
   "name": "python",
   "nbconvert_exporter": "python",
   "pygments_lexer": "ipython3",
   "version": "3.8.5-final"
  },
  "orig_nbformat": 2,
  "kernelspec": {
   "name": "python_defaultSpec_1598427265389",
   "display_name": "Python 3.8.5 64-bit"
  }
 },
 "nbformat": 4,
 "nbformat_minor": 2,
 "cells": [
  {
   "cell_type": "code",
   "execution_count": 1,
   "metadata": {
    "tags": []
   },
   "outputs": [
    {
     "output_type": "stream",
     "name": "stdout",
     "text": "Requirement already satisfied: flask in c:\\users\\théo\\appdata\\local\\programs\\python\\python38\\lib\\site-packages (1.1.2)\nRequirement already satisfied: click>=5.1 in c:\\users\\théo\\appdata\\local\\programs\\python\\python38\\lib\\site-packages (from flask) (7.1.2)\nRequirement already satisfied: Jinja2>=2.10.1 in c:\\users\\théo\\appdata\\roaming\\python\\python38\\site-packages (from flask) (2.11.2)\nRequirement already satisfied: itsdangerous>=0.24 in c:\\users\\théo\\appdata\\local\\programs\\python\\python38\\lib\\site-packages (from flask) (1.1.0)\nRequirement already satisfied: Werkzeug>=0.15 in c:\\users\\théo\\appdata\\local\\programs\\python\\python38\\lib\\site-packages (from flask) (1.0.1)\nRequirement already satisfied: MarkupSafe>=0.23 in c:\\users\\théo\\appdata\\roaming\\python\\python38\\site-packages (from Jinja2>=2.10.1->flask) (1.1.1)\nNote: you may need to restart the kernel to use updated packages.\nWARNING: You are using pip version 20.1.1; however, version 20.2.2 is available.\nYou should consider upgrading via the 'C:\\Users\\Théo\\AppData\\Local\\Programs\\Python\\Python38\\python.exe -m pip install --upgrade pip' command.\n"
    }
   ],
   "source": [
    "pip install flask"
   ]
  },
  {
   "cell_type": "code",
   "execution_count": 15,
   "metadata": {},
   "outputs": [],
   "source": [
    "import crepe\n",
    "from scipy.io import wavfile\n",
    "import numpy as np\n",
    "import librosa\n",
    "from midiutil import MIDIFile"
   ]
  },
  {
   "cell_type": "code",
   "execution_count": 93,
   "metadata": {
    "tags": []
   },
   "outputs": [
    {
     "output_type": "stream",
     "name": "stdout",
     "text": "188/188 [==============================] - 70s 370ms/step\n"
    }
   ],
   "source": [
    "sr, audio = wavfile.read('D:\\Théo\\MedleyDB\\V1\\AClassicEducation_NightOwl\\AClassicEducation_NightOwl_STEMS\\AClassicEducation_NightOwl_STEM_03.wav')\n",
    "audio = audio[sr*60:sr*120]\n",
    "time, frequency, confidence, activation = crepe.predict(audio, sr, viterbi=True)"
   ]
  },
  {
   "cell_type": "code",
   "execution_count": 127,
   "metadata": {
    "tags": []
   },
   "outputs": [],
   "source": [
    "confidence_list = []\n",
    "\n",
    "for i,j in enumerate(confidence) :\n",
    "        if j > 0.90 :\n",
    "            confidence_list.append(frequency[i]) \n",
    "        else :\n",
    "            continue"
   ]
  },
  {
   "cell_type": "code",
   "execution_count": 128,
   "metadata": {},
   "outputs": [],
   "source": [
    "def convert_freq2midi_scalar(f, fA4InHz):\n",
    "\n",
    "    if f <= 0:\n",
    "        return 0\n",
    "    else:\n",
    "        return (69 + 12 * np.log2(f/fA4InHz))\n",
    "\n",
    "def ToolFreq2Midi(fInHz, fA4InHz = 440):\n",
    "\n",
    "    fInHz = np.asarray(fInHz)\n",
    "    if fInHz.ndim == 0:\n",
    "       return convert_freq2midi_scalar(fInHz,fA4InHz)\n",
    "\n",
    "    midi = np.zeros(fInHz.shape)\n",
    "    for k,f in enumerate(fInHz):\n",
    "        midi[k] =  convert_freq2midi_scalar(f,fA4InHz)\n",
    "            \n",
    "    return (midi)"
   ]
  },
  {
   "cell_type": "code",
   "execution_count": 129,
   "metadata": {},
   "outputs": [],
   "source": [
    " Freq_midi = (ToolFreq2Midi(confidence_list, fA4InHz=440)).astype(int)"
   ]
  },
  {
   "cell_type": "code",
   "execution_count": 130,
   "metadata": {},
   "outputs": [
    {
     "output_type": "execute_result",
     "data": {
      "text/plain": "array([65, 65, 65, ..., 63, 63, 63])"
     },
     "metadata": {},
     "execution_count": 130
    }
   ],
   "source": [
    "Freq_midi"
   ]
  },
  {
   "cell_type": "code",
   "execution_count": 126,
   "metadata": {},
   "outputs": [],
   "source": [
    "degrees  = Freq_midi # MIDI note number\n",
    "track    = 0\n",
    "channel  = 0\n",
    "time     = 0    # In beats\n",
    "duration = 1    # In beats\n",
    "tempo    = tempo   # In BPM\n",
    "volume   = 100  # 0-127, as per the MIDI standard\n",
    "\n",
    "MyMIDI = MIDIFile(1)  # One track, defaults to format 1 (tempo track is created\n",
    "                      # automatically)\n",
    "MyMIDI.addTempo(track, time, tempo)\n",
    "\n",
    "for i, pitch in enumerate(degrees):\n",
    "    MyMIDI.addNote(track, channel, pitch, time + i, duration, volume)\n",
    "\n",
    "with open(\"don't-know1.mid\", \"wb\") as output_file:\n",
    "    MyMIDI.writeFile(output_file)"
   ]
  },
  {
   "cell_type": "code",
   "execution_count": null,
   "metadata": {},
   "outputs": [],
   "source": []
  }
 ]
}