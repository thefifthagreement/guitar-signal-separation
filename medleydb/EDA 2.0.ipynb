{
 "metadata": {
  "language_info": {
   "codemirror_mode": {
    "name": "ipython",
    "version": 3
   },
   "file_extension": ".py",
   "mimetype": "text/x-python",
   "name": "python",
   "nbconvert_exporter": "python",
   "pygments_lexer": "ipython3",
   "version": "3.8.5-final"
  },
  "orig_nbformat": 2,
  "kernelspec": {
   "name": "python_defaultSpec_1598264572303",
   "display_name": "Python 3.8.5 64-bit"
  }
 },
 "nbformat": 4,
 "nbformat_minor": 2,
 "cells": [
  {
   "cell_type": "code",
   "execution_count": 8,
   "metadata": {},
   "outputs": [],
   "source": [
    "from os import environ\n",
    "from pathlib import Path\n",
    "import pandas as pd\n",
    "from medleydb.utils import get_instrument_stems, get_instruments_list, get_instrument_tracks, get_track_instruments"
   ]
  },
  {
   "cell_type": "code",
   "execution_count": 139,
   "metadata": {
    "tags": []
   },
   "outputs": [
    {
     "output_type": "stream",
     "name": "stdout",
     "text": "env: MEDLEYDB_PATH=D:\\Théo\\MedleyDB\\V1\nenv: METADATA_PATH=D:\\Théo\\GitHub\\medleydb\\medleydb\\data\\Metadata\nenv: ACTIVATION_PATH=D:\\Théo\\GitHub\\medleydb\\medleydb\\data\\Annotations\\Activation_Confidence\\all\n"
    }
   ],
   "source": [
    "%env MEDLEYDB_PATH=D:\\Théo\\MedleyDB\\V1\n",
    "%env METADATA_PATH=D:\\Théo\\GitHub\\medleydb\\medleydb\\data\\Metadata\n",
    "%env ACTIVATION_PATH=D:\\Théo\\GitHub\\medleydb\\medleydb\\data\\Annotations\\Activation_Confidence\\v2"
   ]
  },
  {
   "cell_type": "code",
   "execution_count": 140,
   "metadata": {
    "tags": []
   },
   "outputs": [
    {
     "output_type": "stream",
     "name": "stdout",
     "text": "wd: d:\\Théo\\GitHub\\jedha-final-project\\medleydb,\ndata: d:\\Théo\\GitHub\\jedha-final-project\\medleydb\\data,\nmedleydb data: D:\\Théo\\GitHub\\medleydb\\medleydb\\data\\Metadata,\naudio: D:\\Théo\\MedleyDB\\V1,\nimages: d:\\Théo\\GitHub\\jedha-final-project\\medleydb\\images\n"
    }
   ],
   "source": [
    "wd_path = Path.cwd() # working directory\n",
    "data_path = wd_path.joinpath(\"data\") # data directory containing the metadata.csv\n",
    "img_path = wd_path.joinpath('images') # images from the data visualizations\n",
    "\n",
    "metadata_path = Path(environ['METADATA_PATH']) # medleyDB repo data path\n",
    "activation_path = Path(environ['ACTIVATION_PATH']) # medleyDB repo data path\n",
    "\n",
    "audio_path = Path(environ['MEDLEYDB_PATH']) # medleyDB audio files path\n",
    "\n",
    "print(\"wd: {},\\ndata: {},\\nmedleydb data: {},\\naudio: {},\\nimages: {}\".format(wd_path, data_path, metadata_path, audio_path, img_path))"
   ]
  },
  {
   "cell_type": "code",
   "execution_count": 141,
   "metadata": {},
   "outputs": [],
   "source": [
    "metadata_df = pd.read_csv(data_path.joinpath(\"metadata.csv\"), index_col=0)"
   ]
  },
  {
   "cell_type": "code",
   "execution_count": 142,
   "metadata": {},
   "outputs": [],
   "source": [
    "electric_stems = get_instrument_stems(metadata_df[\"stems\"], instrument_name = 'clean electric guitar')"
   ]
  },
  {
   "cell_type": "code",
   "execution_count": 293,
   "metadata": {},
   "outputs": [
    {
     "output_type": "execute_result",
     "data": {
      "text/plain": "['AClassicEducation_NightOwl_STEM_05.wav',\n 'AimeeNorwich_Child_STEM_03.wav',\n 'AimeeNorwich_Flying_STEM_04.wav',\n 'AimeeNorwich_Flying_STEM_05.wav',\n 'AlexanderRoss_GoodbyeBolero_STEM_02.wav',\n 'AlexanderRoss_GoodbyeBolero_STEM_03.wav',\n 'AlexanderRoss_VelvetCurtain_STEM_02.wav',\n 'AlexanderRoss_VelvetCurtain_STEM_03.wav',\n 'AlexanderRoss_VelvetCurtain_STEM_10.wav',\n 'AmarLal_Rest_STEM_01.wav',\n 'Auctioneer_OurFutureFaces_STEM_05.wav',\n 'CelestialShore_DieForUs_STEM_05.wav',\n 'CelestialShore_DieForUs_STEM_08.wav',\n 'ChrisJacoby_BoothShotLincoln_STEM_03.wav',\n 'ClaraBerryAndWooldog_AirTraffic_STEM_04.wav',\n 'CroqueMadame_Oil_STEM_02.wav',\n 'CroqueMadame_Pilot_STEM_02.wav',\n 'DahkaBand_SoldierMan_STEM_04.wav',\n 'DeadMilkmen_PrisonersCinema_STEM_09.wav',\n 'DeadMilkmen_PrisonersCinema_STEM_10.wav',\n 'FacesOnFilm_WaitingForGa_STEM_05.wav',\n 'FamilyBand_Again_STEM_05.wav',\n 'InvisibleFamiliars_DisturbingWildlife_STEM_05.wav',\n 'LittleTybee_TheAlchemist_STEM_04.wav',\n 'LittleTybee_TheAlchemist_STEM_05.wav',\n 'LittleTybee_TheAlchemist_STEM_08.wav',\n 'LizNelson_Rainfall_STEM_05.wav',\n 'Lushlife_ToynbeeSuite_STEM_10.wav',\n 'Lushlife_ToynbeeSuite_STEM_11.wav',\n 'Lushlife_ToynbeeSuite_STEM_12.wav',\n 'Meaxic_TakeAStep_STEM_02.wav',\n 'Meaxic_YouListen_STEM_05.wav',\n 'MusicDelta_Beatles_STEM_03.wav',\n 'MusicDelta_Beatles_STEM_04.wav',\n 'MusicDelta_Beatles_STEM_06.wav',\n 'MusicDelta_Britpop_STEM_04.wav',\n 'MusicDelta_Britpop_STEM_05.wav',\n 'MusicDelta_Britpop_STEM_06.wav',\n 'MusicDelta_Country2_STEM_03.wav',\n 'MusicDelta_Country2_STEM_04.wav',\n 'MusicDelta_Disco_STEM_03.wav',\n 'MusicDelta_Gospel_STEM_03.wav',\n 'MusicDelta_Gospel_STEM_04.wav',\n 'MusicDelta_Reggae_STEM_03.wav',\n 'MusicDelta_Rockabilly_STEM_04.wav',\n 'MusicDelta_Rock_STEM_03.wav',\n 'MusicDelta_Rock_STEM_04.wav',\n 'MusicDelta_Shadows_STEM_03.wav',\n 'MusicDelta_Shadows_STEM_04.wav',\n 'Plasma_GoodShout_STEM_03.wav',\n 'PortStWillow_StayEven_STEM_05.wav',\n 'PortStWillow_StayEven_STEM_06.wav',\n 'PortStWillow_StayEven_STEM_07.wav',\n 'SasquatchConnection_BoomBoxing_STEM_05.wav',\n 'SasquatchConnection_HolyClamsBatman_STEM_02.wav',\n 'SasquatchConnection_Struttin_STEM_03.wav',\n 'SasquatchConnection_ThanksALatte_STEM_03.wav',\n 'SecretMountains_HighHorse_STEM_05.wav',\n 'Snowmine_Curfews_STEM_07.wav',\n 'Snowmine_Curfews_STEM_08.wav',\n 'StevenClark_Bounty_STEM_01.wav',\n 'Sweat_AlmostAlways_STEM_06.wav',\n 'Sweat_Anecdoche_STEM_01.wav',\n 'Sweat_Elegy_STEM_06.wav',\n 'Sweat_Mesozoic_STEM_02.wav',\n 'Sweat_Tact_STEM_04.wav',\n 'TablaBreakbeatScience_MoodyPlucks_STEM_09.wav',\n 'TablaBreakbeatScience_Vger_STEM_06.wav',\n 'TheDistricts_Vermont_STEM_06.wav',\n 'TheDistricts_Vermont_STEM_07.wav',\n 'TheKitchenettes_Alive_STEM_06.wav',\n 'TheScarletBrand_LesFleursDuMal_STEM_03.wav',\n 'TheScarletBrand_LesFleursDuMal_STEM_07.wav',\n 'TheTonTons_Lush_STEM_03.wav',\n 'TheTonTons_Lush_STEM_07.wav',\n 'TheTonTons_Lush_STEM_08.wav',\n 'TheTonTons_Lush_STEM_11.wav',\n 'Torres_NewSkin_STEM_04.wav',\n 'Torres_NewSkin_STEM_09.wav',\n 'TrevorAndTheSoundwaves_AloneAndSad_STEM_03.wav']"
     },
     "metadata": {},
     "execution_count": 293
    }
   ],
   "source": [
    "electric_stems"
   ]
  },
  {
   "cell_type": "code",
   "execution_count": 143,
   "metadata": {},
   "outputs": [],
   "source": [
    "target_tracks = get_instrument_tracks(electric_stems, \"clean electric guitar\")"
   ]
  },
  {
   "cell_type": "code",
   "execution_count": 278,
   "metadata": {},
   "outputs": [
    {
     "output_type": "execute_result",
     "data": {
      "text/plain": "['AClassicEducation_NightOwl',\n 'AimeeNorwich_Child',\n 'AimeeNorwich_Flying',\n 'AlexanderRoss_GoodbyeBolero',\n 'AlexanderRoss_VelvetCurtain',\n 'AmarLal_Rest',\n 'Auctioneer_OurFutureFaces',\n 'CelestialShore_DieForUs',\n 'ChrisJacoby_BoothShotLincoln',\n 'ClaraBerryAndWooldog_AirTraffic',\n 'CroqueMadame_Oil',\n 'CroqueMadame_Pilot',\n 'DahkaBand_SoldierMan',\n 'DeadMilkmen_PrisonersCinema',\n 'FacesOnFilm_WaitingForGa',\n 'FamilyBand_Again',\n 'InvisibleFamiliars_DisturbingWildlife',\n 'LittleTybee_TheAlchemist',\n 'LizNelson_Rainfall',\n 'Lushlife_ToynbeeSuite',\n 'Meaxic_TakeAStep',\n 'Meaxic_YouListen',\n 'MusicDelta_Beatles',\n 'MusicDelta_Britpop',\n 'MusicDelta_Country2',\n 'MusicDelta_Disco',\n 'MusicDelta_Gospel',\n 'MusicDelta_Reggae',\n 'MusicDelta_Rock',\n 'MusicDelta_Rockabilly',\n 'MusicDelta_Shadows',\n 'Plasma_GoodShout',\n 'PortStWillow_StayEven',\n 'SasquatchConnection_BoomBoxing',\n 'SasquatchConnection_HolyClamsBatman',\n 'SasquatchConnection_Struttin',\n 'SasquatchConnection_ThanksALatte',\n 'SecretMountains_HighHorse',\n 'Snowmine_Curfews',\n 'StevenClark_Bounty',\n 'Sweat_AlmostAlways',\n 'Sweat_Anecdoche',\n 'Sweat_Elegy',\n 'Sweat_Mesozoic',\n 'Sweat_Tact',\n 'TablaBreakbeatScience_MoodyPlucks',\n 'TablaBreakbeatScience_Vger',\n 'TheDistricts_Vermont',\n 'TheKitchenettes_Alive',\n 'TheScarletBrand_LesFleursDuMal',\n 'TheTonTons_Lush',\n 'Torres_NewSkin',\n 'TrevorAndTheSoundwaves_AloneAndSad']"
     },
     "metadata": {},
     "execution_count": 278
    }
   ],
   "source": [
    "target_tracks = sorted(target_stems)\n",
    "target_tracks"
   ]
  },
  {
   "cell_type": "code",
   "execution_count": 279,
   "metadata": {},
   "outputs": [],
   "source": [
    "del target_tracks[12]\n",
    "del target_tracks[-20:-16]\n",
    "del target_tracks[-13:-8]"
   ]
  },
  {
   "cell_type": "code",
   "execution_count": 280,
   "metadata": {},
   "outputs": [
    {
     "output_type": "execute_result",
     "data": {
      "text/plain": "43"
     },
     "metadata": {},
     "execution_count": 280
    }
   ],
   "source": [
    "len(target_tracks)"
   ]
  },
  {
   "cell_type": "code",
   "execution_count": 372,
   "metadata": {
    "tags": []
   },
   "outputs": [],
   "source": [
    "def instrument_repartition(activation_path, instrument_name, stems, instrument_stems):\n",
    "\n",
    "    electric = get_instrument_stems(stems, instrument_name)\n",
    "    target = get_instrument_tracks(instrument_stems, instrument_name)\n",
    "\n",
    "    track_activations = {}\n",
    "    list_activation = []\n",
    "\n",
    "    for track in target :\n",
    "        \n",
    "        target_activation_path = activation_path.joinpath(track + '_ACTIVATION_CONF.lab') # 'str' object has no attribute 'joinpath'   WHY ?\n",
    "        a = ['S' + s.split('_')[-1][:2] for s in instrument_stems if s.split('_STEM')[0] == track]\n",
    "\n",
    "        dfx = pd.read_csv(target_activation_path)\n",
    "        track_activations[track] = dfx[a]\n",
    "        df1 = track_activations[track].iloc[:,0] # Made in Mickael   \n",
    "        mask = df1 > 0.5\n",
    "        list_activation.append(mask.value_counts(True)[1]) # On récupère le % de présence de la piste dans le morceau\n",
    "        "
   ]
  },
  {
   "cell_type": "code",
   "execution_count": 373,
   "metadata": {
    "tags": []
   },
   "outputs": [
    {
     "output_type": "stream",
     "name": "stdout",
     "text": "PortStWillow_StayEven\n"
    },
    {
     "output_type": "error",
     "ename": "AttributeError",
     "evalue": "'str' object has no attribute 'joinpath'",
     "traceback": [
      "\u001b[1;31m---------------------------------------------------------------------------\u001b[0m",
      "\u001b[1;31mAttributeError\u001b[0m                            Traceback (most recent call last)",
      "\u001b[1;32m<ipython-input-373-10e0050fbcc0>\u001b[0m in \u001b[0;36m<module>\u001b[1;34m\u001b[0m\n\u001b[1;32m----> 1\u001b[1;33m \u001b[0minstrument_repartition\u001b[0m\u001b[1;33m(\u001b[0m\u001b[1;34m'D:\\Théo\\GitHub\\medleydb\\medleydb\\data\\Annotations\\Activation_Confidence\\all'\u001b[0m\u001b[1;33m,\u001b[0m \u001b[1;34m\"clean electric guitar\"\u001b[0m\u001b[1;33m,\u001b[0m \u001b[0mmetadata_df\u001b[0m\u001b[1;33m[\u001b[0m\u001b[1;34m\"stems\"\u001b[0m\u001b[1;33m]\u001b[0m\u001b[1;33m,\u001b[0m \u001b[0mtarget_tracks\u001b[0m\u001b[1;33m)\u001b[0m\u001b[1;33m\u001b[0m\u001b[1;33m\u001b[0m\u001b[0m\n\u001b[0m",
      "\u001b[1;32m<ipython-input-372-4c66ed1c6036>\u001b[0m in \u001b[0;36minstrument_repartition\u001b[1;34m(activation_path, instrument_name, stems, instrument_stems)\u001b[0m\n\u001b[0;32m     11\u001b[0m \u001b[1;33m\u001b[0m\u001b[0m\n\u001b[0;32m     12\u001b[0m \u001b[1;33m\u001b[0m\u001b[0m\n\u001b[1;32m---> 13\u001b[1;33m         \u001b[0mtarget_activation_path\u001b[0m \u001b[1;33m=\u001b[0m \u001b[0mactivation_path\u001b[0m\u001b[1;33m.\u001b[0m\u001b[0mjoinpath\u001b[0m\u001b[1;33m(\u001b[0m\u001b[0mtrack\u001b[0m \u001b[1;33m+\u001b[0m \u001b[1;34m'_ACTIVATION_CONF.lab'\u001b[0m\u001b[1;33m)\u001b[0m\u001b[1;33m\u001b[0m\u001b[1;33m\u001b[0m\u001b[0m\n\u001b[0m\u001b[0;32m     14\u001b[0m         \u001b[0ma\u001b[0m \u001b[1;33m=\u001b[0m \u001b[1;33m[\u001b[0m\u001b[1;34m'S'\u001b[0m \u001b[1;33m+\u001b[0m \u001b[0ms\u001b[0m\u001b[1;33m.\u001b[0m\u001b[0msplit\u001b[0m\u001b[1;33m(\u001b[0m\u001b[1;34m'_'\u001b[0m\u001b[1;33m)\u001b[0m\u001b[1;33m[\u001b[0m\u001b[1;33m-\u001b[0m\u001b[1;36m1\u001b[0m\u001b[1;33m]\u001b[0m\u001b[1;33m[\u001b[0m\u001b[1;33m:\u001b[0m\u001b[1;36m2\u001b[0m\u001b[1;33m]\u001b[0m \u001b[1;32mfor\u001b[0m \u001b[0ms\u001b[0m \u001b[1;32min\u001b[0m \u001b[0minstrument_stems\u001b[0m \u001b[1;32mif\u001b[0m \u001b[0ms\u001b[0m\u001b[1;33m.\u001b[0m\u001b[0msplit\u001b[0m\u001b[1;33m(\u001b[0m\u001b[1;34m'_STEM'\u001b[0m\u001b[1;33m)\u001b[0m\u001b[1;33m[\u001b[0m\u001b[1;36m0\u001b[0m\u001b[1;33m]\u001b[0m \u001b[1;33m==\u001b[0m \u001b[0mtrack\u001b[0m\u001b[1;33m]\u001b[0m\u001b[1;33m\u001b[0m\u001b[1;33m\u001b[0m\u001b[0m\n\u001b[0;32m     15\u001b[0m \u001b[1;33m\u001b[0m\u001b[0m\n",
      "\u001b[1;31mAttributeError\u001b[0m: 'str' object has no attribute 'joinpath'"
     ]
    }
   ],
   "source": [
    "instrument_repartition('D:\\Théo\\GitHub\\medleydb\\medleydb\\data\\Annotations\\Activation_Confidence\\all', \"clean electric guitar\", metadata_df[\"stems\"], target_tracks)"
   ]
  },
  {
   "cell_type": "code",
   "execution_count": 322,
   "metadata": {},
   "outputs": [
    {
     "output_type": "execute_result",
     "data": {
      "text/plain": "[('AClassicEducation_NightOwl', 0.8101300108342362),\n ('AimeeNorwich_Child', 0.7438665358194309),\n ('AimeeNorwich_Flying', 0.8375266524520256),\n ('AlexanderRoss_GoodbyeBolero', 0.7791329415678013),\n ('AlexanderRoss_VelvetCurtain', 0.4603303547251557),\n ('AmarLal_Rest', 0.9297583081570997),\n ('Auctioneer_OurFutureFaces', 0.7169979897252624),\n ('CelestialShore_DieForUs', 0.7197133811031495),\n ('ChrisJacoby_BoothShotLincoln', 0.9547601744186046),\n ('ClaraBerryAndWooldog_AirTraffic', 0.35153949129852746),\n ('CroqueMadame_Oil', 0.9634736083959256),\n ('CroqueMadame_Pilot', 0.9322148298139041),\n ('DeadMilkmen_PrisonersCinema', 0.6384378211716342),\n ('FacesOnFilm_WaitingForGa', 0.9994592645998558),\n ('FamilyBand_Again', 0.8666666666666667),\n ('InvisibleFamiliars_DisturbingWildlife', 0.759235668789809),\n ('LittleTybee_TheAlchemist', 0.7731150564906617),\n ('LizNelson_Rainfall', 0.3747351263243684),\n ('Lushlife_ToynbeeSuite', 0.12722571111932027),\n ('Meaxic_TakeAStep', 0.30371222076215504),\n ('Meaxic_YouListen', 0.36914941494149417),\n ('MusicDelta_Beatles', 0.9604591836734694),\n ('MusicDelta_Britpop', 0.9735182849936949),\n ('MusicDelta_Country2', 0.9893617021276596),\n ('MusicDelta_Disco', 0.9877186453293636),\n ('MusicDelta_Gospel', 0.7191906805640711),\n ('MusicDelta_Reggae', 0.8275862068965517),\n ('MusicDelta_Rock', 0.9574468085106383),\n ('MusicDelta_Rockabilly', 0.9785330948121646),\n ('MusicDelta_Shadows', 0.9916897506925207),\n ('Plasma_GoodShout', 0.12076228686058174),\n ('PortStWillow_StayEven', 0.6698403398271568),\n ('SecretMountains_HighHorse', 0.8753918495297806),\n ('Snowmine_Curfews', 0.9654066824164698),\n ('StevenClark_Bounty', 0.3222649983958935),\n ('TablaBreakbeatScience_MoodyPlucks', 0.7086326402016383),\n ('TablaBreakbeatScience_Vger', 0.9715738806647898),\n ('TheDistricts_Vermont', 0.8455119071850193),\n ('TheKitchenettes_Alive', 0.7589231083010402),\n ('TheScarletBrand_LesFleursDuMal', 0.8733751338125095),\n ('TheTonTons_Lush', 0.22272629077554548),\n ('Torres_NewSkin', 0.7692523495581428),\n ('TrevorAndTheSoundwaves_AloneAndSad', 0.2400659219923091)]"
     },
     "metadata": {},
     "execution_count": 322
    }
   ],
   "source": [
    "result = zip(target_tracks,list_activation)\n",
    "result = list(result)\n",
    "result"
   ]
  },
  {
   "cell_type": "code",
   "execution_count": null,
   "metadata": {},
   "outputs": [],
   "source": []
  }
 ]
}